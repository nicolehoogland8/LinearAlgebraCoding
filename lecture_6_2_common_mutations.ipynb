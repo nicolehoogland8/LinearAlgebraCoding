{
  "nbformat": 4,
  "nbformat_minor": 0,
  "metadata": {
    "kernelspec": {
      "display_name": "R",
      "language": "R",
      "name": "ir"
    },
    "language_info": {
      "codemirror_mode": "r",
      "file_extension": ".r",
      "mimetype": "text/x-r-source",
      "name": "R",
      "pygments_lexer": "r",
      "version": "3.5.1"
    },
    "colab": {
      "name": "lecture_6_2_common_mutations.ipynb",
      "provenance": [],
      "include_colab_link": true
    }
  },
  "cells": [
    {
      "cell_type": "markdown",
      "metadata": {
        "id": "view-in-github",
        "colab_type": "text"
      },
      "source": [
        "<a href=\"https://colab.research.google.com/github/nicolehoogland8/LinearAlgebraCoding/blob/main/lecture_6_2_common_mutations.ipynb\" target=\"_parent\"><img src=\"https://colab.research.google.com/assets/colab-badge.svg\" alt=\"Open In Colab\"/></a>"
      ]
    },
    {
      "cell_type": "markdown",
      "metadata": {
        "id": "1ZIVSnhkpLfE"
      },
      "source": [
        "# **Common mutations**\n",
        "\n",
        "*   Numeric transformations\n",
        "*   String transformations\n",
        "\n"
      ]
    },
    {
      "cell_type": "markdown",
      "metadata": {
        "id": "SDuzqe86uYh5"
      },
      "source": [
        "Let's start by loading the `dplyr` package and the `surveys` dataset:"
      ]
    },
    {
      "cell_type": "code",
      "metadata": {
        "id": "G3lrP4vVpLfH"
      },
      "source": [
        "library(dplyr)"
      ],
      "execution_count": 15,
      "outputs": []
    },
    {
      "cell_type": "code",
      "metadata": {
        "id": "2EkPXaa8pLfJ",
        "outputId": "1acc4d3e-09c9-437c-c035-aa5aef4aa94a",
        "colab": {
          "base_uri": "https://localhost:8080/",
          "height": 286
        }
      },
      "source": [
        "surveys <- read.csv('https://github.com/WSU-DataScience/DSCI_210_R_notebooks/raw/main/data/portal_data_joined.csv')\n",
        "head(surveys)"
      ],
      "execution_count": 16,
      "outputs": [
        {
          "output_type": "display_data",
          "data": {
            "text/plain": [
              "  record_id month day year plot_id species_id sex hindfoot_length weight\n",
              "1   1        7    16  1977 2       NL         M   32              NA    \n",
              "2  72        8    19  1977 2       NL         M   31              NA    \n",
              "3 224        9    13  1977 2       NL             NA              NA    \n",
              "4 266       10    16  1977 2       NL             NA              NA    \n",
              "5 349       11    12  1977 2       NL             NA              NA    \n",
              "6 363       11    12  1977 2       NL             NA              NA    \n",
              "  genus   species  taxa   plot_type\n",
              "1 Neotoma albigula Rodent Control  \n",
              "2 Neotoma albigula Rodent Control  \n",
              "3 Neotoma albigula Rodent Control  \n",
              "4 Neotoma albigula Rodent Control  \n",
              "5 Neotoma albigula Rodent Control  \n",
              "6 Neotoma albigula Rodent Control  "
            ],
            "text/latex": "A data.frame: 6 × 13\n\\begin{tabular}{r|lllllllllllll}\n  & record\\_id & month & day & year & plot\\_id & species\\_id & sex & hindfoot\\_length & weight & genus & species & taxa & plot\\_type\\\\\n  & <int> & <int> & <int> & <int> & <int> & <chr> & <chr> & <int> & <int> & <chr> & <chr> & <chr> & <chr>\\\\\n\\hline\n\t1 &   1 &  7 & 16 & 1977 & 2 & NL & M & 32 & NA & Neotoma & albigula & Rodent & Control\\\\\n\t2 &  72 &  8 & 19 & 1977 & 2 & NL & M & 31 & NA & Neotoma & albigula & Rodent & Control\\\\\n\t3 & 224 &  9 & 13 & 1977 & 2 & NL &   & NA & NA & Neotoma & albigula & Rodent & Control\\\\\n\t4 & 266 & 10 & 16 & 1977 & 2 & NL &   & NA & NA & Neotoma & albigula & Rodent & Control\\\\\n\t5 & 349 & 11 & 12 & 1977 & 2 & NL &   & NA & NA & Neotoma & albigula & Rodent & Control\\\\\n\t6 & 363 & 11 & 12 & 1977 & 2 & NL &   & NA & NA & Neotoma & albigula & Rodent & Control\\\\\n\\end{tabular}\n",
            "text/markdown": "\nA data.frame: 6 × 13\n\n| <!--/--> | record_id &lt;int&gt; | month &lt;int&gt; | day &lt;int&gt; | year &lt;int&gt; | plot_id &lt;int&gt; | species_id &lt;chr&gt; | sex &lt;chr&gt; | hindfoot_length &lt;int&gt; | weight &lt;int&gt; | genus &lt;chr&gt; | species &lt;chr&gt; | taxa &lt;chr&gt; | plot_type &lt;chr&gt; |\n|---|---|---|---|---|---|---|---|---|---|---|---|---|---|\n| 1 |   1 |  7 | 16 | 1977 | 2 | NL | M | 32 | NA | Neotoma | albigula | Rodent | Control |\n| 2 |  72 |  8 | 19 | 1977 | 2 | NL | M | 31 | NA | Neotoma | albigula | Rodent | Control |\n| 3 | 224 |  9 | 13 | 1977 | 2 | NL | <!----> | NA | NA | Neotoma | albigula | Rodent | Control |\n| 4 | 266 | 10 | 16 | 1977 | 2 | NL | <!----> | NA | NA | Neotoma | albigula | Rodent | Control |\n| 5 | 349 | 11 | 12 | 1977 | 2 | NL | <!----> | NA | NA | Neotoma | albigula | Rodent | Control |\n| 6 | 363 | 11 | 12 | 1977 | 2 | NL | <!----> | NA | NA | Neotoma | albigula | Rodent | Control |\n\n",
            "text/html": [
              "<table class=\"dataframe\">\n",
              "<caption>A data.frame: 6 × 13</caption>\n",
              "<thead>\n",
              "\t<tr><th></th><th scope=col>record_id</th><th scope=col>month</th><th scope=col>day</th><th scope=col>year</th><th scope=col>plot_id</th><th scope=col>species_id</th><th scope=col>sex</th><th scope=col>hindfoot_length</th><th scope=col>weight</th><th scope=col>genus</th><th scope=col>species</th><th scope=col>taxa</th><th scope=col>plot_type</th></tr>\n",
              "\t<tr><th></th><th scope=col>&lt;int&gt;</th><th scope=col>&lt;int&gt;</th><th scope=col>&lt;int&gt;</th><th scope=col>&lt;int&gt;</th><th scope=col>&lt;int&gt;</th><th scope=col>&lt;chr&gt;</th><th scope=col>&lt;chr&gt;</th><th scope=col>&lt;int&gt;</th><th scope=col>&lt;int&gt;</th><th scope=col>&lt;chr&gt;</th><th scope=col>&lt;chr&gt;</th><th scope=col>&lt;chr&gt;</th><th scope=col>&lt;chr&gt;</th></tr>\n",
              "</thead>\n",
              "<tbody>\n",
              "\t<tr><th scope=row>1</th><td>  1</td><td> 7</td><td>16</td><td>1977</td><td>2</td><td>NL</td><td>M</td><td>32</td><td>NA</td><td>Neotoma</td><td>albigula</td><td>Rodent</td><td>Control</td></tr>\n",
              "\t<tr><th scope=row>2</th><td> 72</td><td> 8</td><td>19</td><td>1977</td><td>2</td><td>NL</td><td>M</td><td>31</td><td>NA</td><td>Neotoma</td><td>albigula</td><td>Rodent</td><td>Control</td></tr>\n",
              "\t<tr><th scope=row>3</th><td>224</td><td> 9</td><td>13</td><td>1977</td><td>2</td><td>NL</td><td> </td><td>NA</td><td>NA</td><td>Neotoma</td><td>albigula</td><td>Rodent</td><td>Control</td></tr>\n",
              "\t<tr><th scope=row>4</th><td>266</td><td>10</td><td>16</td><td>1977</td><td>2</td><td>NL</td><td> </td><td>NA</td><td>NA</td><td>Neotoma</td><td>albigula</td><td>Rodent</td><td>Control</td></tr>\n",
              "\t<tr><th scope=row>5</th><td>349</td><td>11</td><td>12</td><td>1977</td><td>2</td><td>NL</td><td> </td><td>NA</td><td>NA</td><td>Neotoma</td><td>albigula</td><td>Rodent</td><td>Control</td></tr>\n",
              "\t<tr><th scope=row>6</th><td>363</td><td>11</td><td>12</td><td>1977</td><td>2</td><td>NL</td><td> </td><td>NA</td><td>NA</td><td>Neotoma</td><td>albigula</td><td>Rodent</td><td>Control</td></tr>\n",
              "</tbody>\n",
              "</table>\n"
            ]
          },
          "metadata": {}
        }
      ]
    },
    {
      "cell_type": "markdown",
      "metadata": {
        "id": "3BEGK_0qpLfL"
      },
      "source": [
        "# **Some Numeric Transformations**"
      ]
    },
    {
      "cell_type": "markdown",
      "metadata": {
        "id": "CgnU4QVbpLfM"
      },
      "source": [
        "## Example - Creating a decade column with the `floor` function"
      ]
    },
    {
      "cell_type": "code",
      "metadata": {
        "id": "XyZnOPcIpLfM"
      },
      "source": [
        "# Playing around\n",
        "# Step 1 - Save the column\n",
        "year <- surveys$year \n",
        "year %>% head"
      ],
      "execution_count": null,
      "outputs": []
    },
    {
      "cell_type": "code",
      "metadata": {
        "id": "0W55Y8HJpLfN",
        "outputId": "41a313b9-16c6-4537-c33b-29172d8f3507",
        "colab": {
          "base_uri": "https://localhost:8080/",
          "height": 35
        }
      },
      "source": [
        "# Playing around\n",
        "# Step 2 - Try it out\n",
        "new <- floor(year/10)*10\n",
        "head(new)"
      ],
      "execution_count": 18,
      "outputs": [
        {
          "output_type": "display_data",
          "data": {
            "text/plain": [
              "[1] 1970 1970 1970 1970 1970 1970"
            ],
            "text/latex": "\\begin{enumerate*}\n\\item 1970\n\\item 1970\n\\item 1970\n\\item 1970\n\\item 1970\n\\item 1970\n\\end{enumerate*}\n",
            "text/markdown": "1. 1970\n2. 1970\n3. 1970\n4. 1970\n5. 1970\n6. 1970\n\n\n",
            "text/html": [
              "<style>\n",
              ".list-inline {list-style: none; margin:0; padding: 0}\n",
              ".list-inline>li {display: inline-block}\n",
              ".list-inline>li:not(:last-child)::after {content: \"\\00b7\"; padding: 0 .5ex}\n",
              "</style>\n",
              "<ol class=list-inline><li>1970</li><li>1970</li><li>1970</li><li>1970</li><li>1970</li><li>1970</li></ol>\n"
            ]
          },
          "metadata": {}
        }
      ]
    },
    {
      "cell_type": "code",
      "metadata": {
        "id": "2QcC2PgDpLfO",
        "outputId": "4f1144e9-d088-4da5-8675-c7a019f0f5e2",
        "colab": {
          "base_uri": "https://localhost:8080/",
          "height": 286
        }
      },
      "source": [
        "# Step 3 - Embed in a mutate\n",
        "(surveys\n",
        " %>% mutate(decade = floor(year/10)*10)\n",
        " %>% head\n",
        " )"
      ],
      "execution_count": 19,
      "outputs": [
        {
          "output_type": "display_data",
          "data": {
            "text/plain": [
              "  record_id month day year plot_id species_id sex hindfoot_length weight\n",
              "1   1        7    16  1977 2       NL         M   32              NA    \n",
              "2  72        8    19  1977 2       NL         M   31              NA    \n",
              "3 224        9    13  1977 2       NL             NA              NA    \n",
              "4 266       10    16  1977 2       NL             NA              NA    \n",
              "5 349       11    12  1977 2       NL             NA              NA    \n",
              "6 363       11    12  1977 2       NL             NA              NA    \n",
              "  genus   species  taxa   plot_type decade\n",
              "1 Neotoma albigula Rodent Control   1970  \n",
              "2 Neotoma albigula Rodent Control   1970  \n",
              "3 Neotoma albigula Rodent Control   1970  \n",
              "4 Neotoma albigula Rodent Control   1970  \n",
              "5 Neotoma albigula Rodent Control   1970  \n",
              "6 Neotoma albigula Rodent Control   1970  "
            ],
            "text/latex": "A data.frame: 6 × 14\n\\begin{tabular}{r|llllllllllllll}\n  & record\\_id & month & day & year & plot\\_id & species\\_id & sex & hindfoot\\_length & weight & genus & species & taxa & plot\\_type & decade\\\\\n  & <int> & <int> & <int> & <int> & <int> & <chr> & <chr> & <int> & <int> & <chr> & <chr> & <chr> & <chr> & <dbl>\\\\\n\\hline\n\t1 &   1 &  7 & 16 & 1977 & 2 & NL & M & 32 & NA & Neotoma & albigula & Rodent & Control & 1970\\\\\n\t2 &  72 &  8 & 19 & 1977 & 2 & NL & M & 31 & NA & Neotoma & albigula & Rodent & Control & 1970\\\\\n\t3 & 224 &  9 & 13 & 1977 & 2 & NL &   & NA & NA & Neotoma & albigula & Rodent & Control & 1970\\\\\n\t4 & 266 & 10 & 16 & 1977 & 2 & NL &   & NA & NA & Neotoma & albigula & Rodent & Control & 1970\\\\\n\t5 & 349 & 11 & 12 & 1977 & 2 & NL &   & NA & NA & Neotoma & albigula & Rodent & Control & 1970\\\\\n\t6 & 363 & 11 & 12 & 1977 & 2 & NL &   & NA & NA & Neotoma & albigula & Rodent & Control & 1970\\\\\n\\end{tabular}\n",
            "text/markdown": "\nA data.frame: 6 × 14\n\n| <!--/--> | record_id &lt;int&gt; | month &lt;int&gt; | day &lt;int&gt; | year &lt;int&gt; | plot_id &lt;int&gt; | species_id &lt;chr&gt; | sex &lt;chr&gt; | hindfoot_length &lt;int&gt; | weight &lt;int&gt; | genus &lt;chr&gt; | species &lt;chr&gt; | taxa &lt;chr&gt; | plot_type &lt;chr&gt; | decade &lt;dbl&gt; |\n|---|---|---|---|---|---|---|---|---|---|---|---|---|---|---|\n| 1 |   1 |  7 | 16 | 1977 | 2 | NL | M | 32 | NA | Neotoma | albigula | Rodent | Control | 1970 |\n| 2 |  72 |  8 | 19 | 1977 | 2 | NL | M | 31 | NA | Neotoma | albigula | Rodent | Control | 1970 |\n| 3 | 224 |  9 | 13 | 1977 | 2 | NL | <!----> | NA | NA | Neotoma | albigula | Rodent | Control | 1970 |\n| 4 | 266 | 10 | 16 | 1977 | 2 | NL | <!----> | NA | NA | Neotoma | albigula | Rodent | Control | 1970 |\n| 5 | 349 | 11 | 12 | 1977 | 2 | NL | <!----> | NA | NA | Neotoma | albigula | Rodent | Control | 1970 |\n| 6 | 363 | 11 | 12 | 1977 | 2 | NL | <!----> | NA | NA | Neotoma | albigula | Rodent | Control | 1970 |\n\n",
            "text/html": [
              "<table class=\"dataframe\">\n",
              "<caption>A data.frame: 6 × 14</caption>\n",
              "<thead>\n",
              "\t<tr><th></th><th scope=col>record_id</th><th scope=col>month</th><th scope=col>day</th><th scope=col>year</th><th scope=col>plot_id</th><th scope=col>species_id</th><th scope=col>sex</th><th scope=col>hindfoot_length</th><th scope=col>weight</th><th scope=col>genus</th><th scope=col>species</th><th scope=col>taxa</th><th scope=col>plot_type</th><th scope=col>decade</th></tr>\n",
              "\t<tr><th></th><th scope=col>&lt;int&gt;</th><th scope=col>&lt;int&gt;</th><th scope=col>&lt;int&gt;</th><th scope=col>&lt;int&gt;</th><th scope=col>&lt;int&gt;</th><th scope=col>&lt;chr&gt;</th><th scope=col>&lt;chr&gt;</th><th scope=col>&lt;int&gt;</th><th scope=col>&lt;int&gt;</th><th scope=col>&lt;chr&gt;</th><th scope=col>&lt;chr&gt;</th><th scope=col>&lt;chr&gt;</th><th scope=col>&lt;chr&gt;</th><th scope=col>&lt;dbl&gt;</th></tr>\n",
              "</thead>\n",
              "<tbody>\n",
              "\t<tr><th scope=row>1</th><td>  1</td><td> 7</td><td>16</td><td>1977</td><td>2</td><td>NL</td><td>M</td><td>32</td><td>NA</td><td>Neotoma</td><td>albigula</td><td>Rodent</td><td>Control</td><td>1970</td></tr>\n",
              "\t<tr><th scope=row>2</th><td> 72</td><td> 8</td><td>19</td><td>1977</td><td>2</td><td>NL</td><td>M</td><td>31</td><td>NA</td><td>Neotoma</td><td>albigula</td><td>Rodent</td><td>Control</td><td>1970</td></tr>\n",
              "\t<tr><th scope=row>3</th><td>224</td><td> 9</td><td>13</td><td>1977</td><td>2</td><td>NL</td><td> </td><td>NA</td><td>NA</td><td>Neotoma</td><td>albigula</td><td>Rodent</td><td>Control</td><td>1970</td></tr>\n",
              "\t<tr><th scope=row>4</th><td>266</td><td>10</td><td>16</td><td>1977</td><td>2</td><td>NL</td><td> </td><td>NA</td><td>NA</td><td>Neotoma</td><td>albigula</td><td>Rodent</td><td>Control</td><td>1970</td></tr>\n",
              "\t<tr><th scope=row>5</th><td>349</td><td>11</td><td>12</td><td>1977</td><td>2</td><td>NL</td><td> </td><td>NA</td><td>NA</td><td>Neotoma</td><td>albigula</td><td>Rodent</td><td>Control</td><td>1970</td></tr>\n",
              "\t<tr><th scope=row>6</th><td>363</td><td>11</td><td>12</td><td>1977</td><td>2</td><td>NL</td><td> </td><td>NA</td><td>NA</td><td>Neotoma</td><td>albigula</td><td>Rodent</td><td>Control</td><td>1970</td></tr>\n",
              "</tbody>\n",
              "</table>\n"
            ]
          },
          "metadata": {}
        }
      ]
    },
    {
      "cell_type": "markdown",
      "metadata": {
        "id": "_Jyeqj8OpLfO"
      },
      "source": [
        "## Example - Making an indicator column with the `ifelse` function"
      ]
    },
    {
      "cell_type": "code",
      "metadata": {
        "id": "XOZXsQBqpLfP",
        "outputId": "6330142a-a772-4b8d-b1ab-21040744892e",
        "colab": {
          "base_uri": "https://localhost:8080/",
          "height": 35
        }
      },
      "source": [
        "# Playing around\n",
        "sex <- surveys$sex\n",
        "new <- ifelse(sex == 'M', 1, 0)\n",
        "head(new)"
      ],
      "execution_count": 20,
      "outputs": [
        {
          "output_type": "display_data",
          "data": {
            "text/plain": [
              "[1] 1 1 0 0 0 0"
            ],
            "text/latex": "\\begin{enumerate*}\n\\item 1\n\\item 1\n\\item 0\n\\item 0\n\\item 0\n\\item 0\n\\end{enumerate*}\n",
            "text/markdown": "1. 1\n2. 1\n3. 0\n4. 0\n5. 0\n6. 0\n\n\n",
            "text/html": [
              "<style>\n",
              ".list-inline {list-style: none; margin:0; padding: 0}\n",
              ".list-inline>li {display: inline-block}\n",
              ".list-inline>li:not(:last-child)::after {content: \"\\00b7\"; padding: 0 .5ex}\n",
              "</style>\n",
              "<ol class=list-inline><li>1</li><li>1</li><li>0</li><li>0</li><li>0</li><li>0</li></ol>\n"
            ]
          },
          "metadata": {}
        }
      ]
    },
    {
      "cell_type": "code",
      "metadata": {
        "scrolled": true,
        "id": "SmgUbhx7pLfP",
        "outputId": "7569c338-4d1f-486a-84f6-e9eae3a79e19",
        "colab": {
          "base_uri": "https://localhost:8080/",
          "height": 286
        }
      },
      "source": [
        "(surveys\n",
        "%>% mutate(is_male = ifelse(sex == 'M', 1, 0))\n",
        "%>% head\n",
        ")"
      ],
      "execution_count": 21,
      "outputs": [
        {
          "output_type": "display_data",
          "data": {
            "text/plain": [
              "  record_id month day year plot_id species_id sex hindfoot_length weight\n",
              "1   1        7    16  1977 2       NL         M   32              NA    \n",
              "2  72        8    19  1977 2       NL         M   31              NA    \n",
              "3 224        9    13  1977 2       NL             NA              NA    \n",
              "4 266       10    16  1977 2       NL             NA              NA    \n",
              "5 349       11    12  1977 2       NL             NA              NA    \n",
              "6 363       11    12  1977 2       NL             NA              NA    \n",
              "  genus   species  taxa   plot_type is_male\n",
              "1 Neotoma albigula Rodent Control   1      \n",
              "2 Neotoma albigula Rodent Control   1      \n",
              "3 Neotoma albigula Rodent Control   0      \n",
              "4 Neotoma albigula Rodent Control   0      \n",
              "5 Neotoma albigula Rodent Control   0      \n",
              "6 Neotoma albigula Rodent Control   0      "
            ],
            "text/latex": "A data.frame: 6 × 14\n\\begin{tabular}{r|llllllllllllll}\n  & record\\_id & month & day & year & plot\\_id & species\\_id & sex & hindfoot\\_length & weight & genus & species & taxa & plot\\_type & is\\_male\\\\\n  & <int> & <int> & <int> & <int> & <int> & <chr> & <chr> & <int> & <int> & <chr> & <chr> & <chr> & <chr> & <dbl>\\\\\n\\hline\n\t1 &   1 &  7 & 16 & 1977 & 2 & NL & M & 32 & NA & Neotoma & albigula & Rodent & Control & 1\\\\\n\t2 &  72 &  8 & 19 & 1977 & 2 & NL & M & 31 & NA & Neotoma & albigula & Rodent & Control & 1\\\\\n\t3 & 224 &  9 & 13 & 1977 & 2 & NL &   & NA & NA & Neotoma & albigula & Rodent & Control & 0\\\\\n\t4 & 266 & 10 & 16 & 1977 & 2 & NL &   & NA & NA & Neotoma & albigula & Rodent & Control & 0\\\\\n\t5 & 349 & 11 & 12 & 1977 & 2 & NL &   & NA & NA & Neotoma & albigula & Rodent & Control & 0\\\\\n\t6 & 363 & 11 & 12 & 1977 & 2 & NL &   & NA & NA & Neotoma & albigula & Rodent & Control & 0\\\\\n\\end{tabular}\n",
            "text/markdown": "\nA data.frame: 6 × 14\n\n| <!--/--> | record_id &lt;int&gt; | month &lt;int&gt; | day &lt;int&gt; | year &lt;int&gt; | plot_id &lt;int&gt; | species_id &lt;chr&gt; | sex &lt;chr&gt; | hindfoot_length &lt;int&gt; | weight &lt;int&gt; | genus &lt;chr&gt; | species &lt;chr&gt; | taxa &lt;chr&gt; | plot_type &lt;chr&gt; | is_male &lt;dbl&gt; |\n|---|---|---|---|---|---|---|---|---|---|---|---|---|---|---|\n| 1 |   1 |  7 | 16 | 1977 | 2 | NL | M | 32 | NA | Neotoma | albigula | Rodent | Control | 1 |\n| 2 |  72 |  8 | 19 | 1977 | 2 | NL | M | 31 | NA | Neotoma | albigula | Rodent | Control | 1 |\n| 3 | 224 |  9 | 13 | 1977 | 2 | NL | <!----> | NA | NA | Neotoma | albigula | Rodent | Control | 0 |\n| 4 | 266 | 10 | 16 | 1977 | 2 | NL | <!----> | NA | NA | Neotoma | albigula | Rodent | Control | 0 |\n| 5 | 349 | 11 | 12 | 1977 | 2 | NL | <!----> | NA | NA | Neotoma | albigula | Rodent | Control | 0 |\n| 6 | 363 | 11 | 12 | 1977 | 2 | NL | <!----> | NA | NA | Neotoma | albigula | Rodent | Control | 0 |\n\n",
            "text/html": [
              "<table class=\"dataframe\">\n",
              "<caption>A data.frame: 6 × 14</caption>\n",
              "<thead>\n",
              "\t<tr><th></th><th scope=col>record_id</th><th scope=col>month</th><th scope=col>day</th><th scope=col>year</th><th scope=col>plot_id</th><th scope=col>species_id</th><th scope=col>sex</th><th scope=col>hindfoot_length</th><th scope=col>weight</th><th scope=col>genus</th><th scope=col>species</th><th scope=col>taxa</th><th scope=col>plot_type</th><th scope=col>is_male</th></tr>\n",
              "\t<tr><th></th><th scope=col>&lt;int&gt;</th><th scope=col>&lt;int&gt;</th><th scope=col>&lt;int&gt;</th><th scope=col>&lt;int&gt;</th><th scope=col>&lt;int&gt;</th><th scope=col>&lt;chr&gt;</th><th scope=col>&lt;chr&gt;</th><th scope=col>&lt;int&gt;</th><th scope=col>&lt;int&gt;</th><th scope=col>&lt;chr&gt;</th><th scope=col>&lt;chr&gt;</th><th scope=col>&lt;chr&gt;</th><th scope=col>&lt;chr&gt;</th><th scope=col>&lt;dbl&gt;</th></tr>\n",
              "</thead>\n",
              "<tbody>\n",
              "\t<tr><th scope=row>1</th><td>  1</td><td> 7</td><td>16</td><td>1977</td><td>2</td><td>NL</td><td>M</td><td>32</td><td>NA</td><td>Neotoma</td><td>albigula</td><td>Rodent</td><td>Control</td><td>1</td></tr>\n",
              "\t<tr><th scope=row>2</th><td> 72</td><td> 8</td><td>19</td><td>1977</td><td>2</td><td>NL</td><td>M</td><td>31</td><td>NA</td><td>Neotoma</td><td>albigula</td><td>Rodent</td><td>Control</td><td>1</td></tr>\n",
              "\t<tr><th scope=row>3</th><td>224</td><td> 9</td><td>13</td><td>1977</td><td>2</td><td>NL</td><td> </td><td>NA</td><td>NA</td><td>Neotoma</td><td>albigula</td><td>Rodent</td><td>Control</td><td>0</td></tr>\n",
              "\t<tr><th scope=row>4</th><td>266</td><td>10</td><td>16</td><td>1977</td><td>2</td><td>NL</td><td> </td><td>NA</td><td>NA</td><td>Neotoma</td><td>albigula</td><td>Rodent</td><td>Control</td><td>0</td></tr>\n",
              "\t<tr><th scope=row>5</th><td>349</td><td>11</td><td>12</td><td>1977</td><td>2</td><td>NL</td><td> </td><td>NA</td><td>NA</td><td>Neotoma</td><td>albigula</td><td>Rodent</td><td>Control</td><td>0</td></tr>\n",
              "\t<tr><th scope=row>6</th><td>363</td><td>11</td><td>12</td><td>1977</td><td>2</td><td>NL</td><td> </td><td>NA</td><td>NA</td><td>Neotoma</td><td>albigula</td><td>Rodent</td><td>Control</td><td>0</td></tr>\n",
              "</tbody>\n",
              "</table>\n"
            ]
          },
          "metadata": {}
        }
      ]
    },
    {
      "cell_type": "markdown",
      "metadata": {
        "id": "v4Ihbff5pLfQ"
      },
      "source": [
        "## <font color=\"red\"> Exercise 6.2 - Problem 1 - Convert lbs. to kg. and create an indicator column </font>\n",
        "\n",
        "The variables `Bench.pre` and `Bench.post` represent the pre- and post-measurement for maximum bench press in lbs.\n",
        "\n",
        "* **Task 1:** Create two new columns that contain the bench press weights (pre- and post-) converted to kilograms.\n",
        "* **Task 2:** Create an indicator column called `is_class_1` that is `1` for all rows with `Class == 1` and `0` otherwise."
      ]
    },
    {
      "cell_type": "code",
      "metadata": {
        "id": "FCsjY_vjpLfQ"
      },
      "source": [
        "football_sleep <- read.csv('https://github.com/WSU-DataScience/DSCI_210_R_notebooks/raw/main/data/Football_Sleep_data.csv')\n",
        "head(football_sleep)"
      ],
      "execution_count": null,
      "outputs": []
    },
    {
      "cell_type": "code",
      "metadata": {
        "id": "RSV0UmATpLfQ",
        "outputId": "6e32e7b2-c1f0-4adc-fd6b-4d6b5bed18ab",
        "colab": {
          "base_uri": "https://localhost:8080/",
          "height": 306
        }
      },
      "source": [
        "# Your code here\n",
        "football_sleep %>% \n",
        "mutate(Bench.pre.kg = Bench.pre*0.453592) %>% \n",
        "mutate(Bench.post.kg = Bench.post*0.453592) %>%\n",
        "mutate(is_class_1 = ifelse(Class == '1', 1, 0)) %>%\n",
        "head()"
      ],
      "execution_count": 22,
      "outputs": [
        {
          "output_type": "display_data",
          "data": {
            "text/plain": [
              "  student Class Pct7 Avg.sleep.per.night GPA.pre GPA.post Clean.pre Clean.post\n",
              "1 1       NA          NA                 3.21    3.60     270        NA       \n",
              "2 2        1    95%  7.6                 3.10    3.30     265       290       \n",
              "3 3        2    90%  7.5                 2.94    3.46     264       264       \n",
              "4 4        2    25%  6.0                 2.57    2.20     290        NA       \n",
              "5 5        1    44%  6.0                 3.50    3.50     280       265       \n",
              "6 6        2    88%  7.0                 2.64    1.53     253       253       \n",
              "  Back.pre Back.post Bench.pre Bench.post Bench.pre.kg Bench.post.kg is_class_1\n",
              "1 425       NA       315        NA        142.8815           NA      NA        \n",
              "2 385      430       255       275        115.6660     124.7378       1        \n",
              "3 290      425       290       290        131.5417     131.5417       0        \n",
              "4 450       NA       275        NA        124.7378           NA       0        \n",
              "5 415      390       270       235        122.4698     106.5941       1        \n",
              "6 405      415       305       325        138.3456     147.4174       0        "
            ],
            "text/latex": "A data.frame: 6 × 15\n\\begin{tabular}{r|lllllllllllllll}\n  & student & Class & Pct7 & Avg.sleep.per.night & GPA.pre & GPA.post & Clean.pre & Clean.post & Back.pre & Back.post & Bench.pre & Bench.post & Bench.pre.kg & Bench.post.kg & is\\_class\\_1\\\\\n  & <int> & <int> & <chr> & <dbl> & <dbl> & <dbl> & <int> & <int> & <int> & <int> & <int> & <int> & <dbl> & <dbl> & <dbl>\\\\\n\\hline\n\t1 & 1 & NA &     &  NA & 3.21 & 3.60 & 270 &  NA & 425 &  NA & 315 &  NA & 142.8815 &       NA & NA\\\\\n\t2 & 2 &  1 & 95\\% & 7.6 & 3.10 & 3.30 & 265 & 290 & 385 & 430 & 255 & 275 & 115.6660 & 124.7378 &  1\\\\\n\t3 & 3 &  2 & 90\\% & 7.5 & 2.94 & 3.46 & 264 & 264 & 290 & 425 & 290 & 290 & 131.5417 & 131.5417 &  0\\\\\n\t4 & 4 &  2 & 25\\% & 6.0 & 2.57 & 2.20 & 290 &  NA & 450 &  NA & 275 &  NA & 124.7378 &       NA &  0\\\\\n\t5 & 5 &  1 & 44\\% & 6.0 & 3.50 & 3.50 & 280 & 265 & 415 & 390 & 270 & 235 & 122.4698 & 106.5941 &  1\\\\\n\t6 & 6 &  2 & 88\\% & 7.0 & 2.64 & 1.53 & 253 & 253 & 405 & 415 & 305 & 325 & 138.3456 & 147.4174 &  0\\\\\n\\end{tabular}\n",
            "text/markdown": "\nA data.frame: 6 × 15\n\n| <!--/--> | student &lt;int&gt; | Class &lt;int&gt; | Pct7 &lt;chr&gt; | Avg.sleep.per.night &lt;dbl&gt; | GPA.pre &lt;dbl&gt; | GPA.post &lt;dbl&gt; | Clean.pre &lt;int&gt; | Clean.post &lt;int&gt; | Back.pre &lt;int&gt; | Back.post &lt;int&gt; | Bench.pre &lt;int&gt; | Bench.post &lt;int&gt; | Bench.pre.kg &lt;dbl&gt; | Bench.post.kg &lt;dbl&gt; | is_class_1 &lt;dbl&gt; |\n|---|---|---|---|---|---|---|---|---|---|---|---|---|---|---|---|\n| 1 | 1 | NA | <!----> |  NA | 3.21 | 3.60 | 270 |  NA | 425 |  NA | 315 |  NA | 142.8815 |       NA | NA |\n| 2 | 2 |  1 | 95% | 7.6 | 3.10 | 3.30 | 265 | 290 | 385 | 430 | 255 | 275 | 115.6660 | 124.7378 |  1 |\n| 3 | 3 |  2 | 90% | 7.5 | 2.94 | 3.46 | 264 | 264 | 290 | 425 | 290 | 290 | 131.5417 | 131.5417 |  0 |\n| 4 | 4 |  2 | 25% | 6.0 | 2.57 | 2.20 | 290 |  NA | 450 |  NA | 275 |  NA | 124.7378 |       NA |  0 |\n| 5 | 5 |  1 | 44% | 6.0 | 3.50 | 3.50 | 280 | 265 | 415 | 390 | 270 | 235 | 122.4698 | 106.5941 |  1 |\n| 6 | 6 |  2 | 88% | 7.0 | 2.64 | 1.53 | 253 | 253 | 405 | 415 | 305 | 325 | 138.3456 | 147.4174 |  0 |\n\n",
            "text/html": [
              "<table class=\"dataframe\">\n",
              "<caption>A data.frame: 6 × 15</caption>\n",
              "<thead>\n",
              "\t<tr><th></th><th scope=col>student</th><th scope=col>Class</th><th scope=col>Pct7</th><th scope=col>Avg.sleep.per.night</th><th scope=col>GPA.pre</th><th scope=col>GPA.post</th><th scope=col>Clean.pre</th><th scope=col>Clean.post</th><th scope=col>Back.pre</th><th scope=col>Back.post</th><th scope=col>Bench.pre</th><th scope=col>Bench.post</th><th scope=col>Bench.pre.kg</th><th scope=col>Bench.post.kg</th><th scope=col>is_class_1</th></tr>\n",
              "\t<tr><th></th><th scope=col>&lt;int&gt;</th><th scope=col>&lt;int&gt;</th><th scope=col>&lt;chr&gt;</th><th scope=col>&lt;dbl&gt;</th><th scope=col>&lt;dbl&gt;</th><th scope=col>&lt;dbl&gt;</th><th scope=col>&lt;int&gt;</th><th scope=col>&lt;int&gt;</th><th scope=col>&lt;int&gt;</th><th scope=col>&lt;int&gt;</th><th scope=col>&lt;int&gt;</th><th scope=col>&lt;int&gt;</th><th scope=col>&lt;dbl&gt;</th><th scope=col>&lt;dbl&gt;</th><th scope=col>&lt;dbl&gt;</th></tr>\n",
              "</thead>\n",
              "<tbody>\n",
              "\t<tr><th scope=row>1</th><td>1</td><td>NA</td><td>   </td><td> NA</td><td>3.21</td><td>3.60</td><td>270</td><td> NA</td><td>425</td><td> NA</td><td>315</td><td> NA</td><td>142.8815</td><td>      NA</td><td>NA</td></tr>\n",
              "\t<tr><th scope=row>2</th><td>2</td><td> 1</td><td>95%</td><td>7.6</td><td>3.10</td><td>3.30</td><td>265</td><td>290</td><td>385</td><td>430</td><td>255</td><td>275</td><td>115.6660</td><td>124.7378</td><td> 1</td></tr>\n",
              "\t<tr><th scope=row>3</th><td>3</td><td> 2</td><td>90%</td><td>7.5</td><td>2.94</td><td>3.46</td><td>264</td><td>264</td><td>290</td><td>425</td><td>290</td><td>290</td><td>131.5417</td><td>131.5417</td><td> 0</td></tr>\n",
              "\t<tr><th scope=row>4</th><td>4</td><td> 2</td><td>25%</td><td>6.0</td><td>2.57</td><td>2.20</td><td>290</td><td> NA</td><td>450</td><td> NA</td><td>275</td><td> NA</td><td>124.7378</td><td>      NA</td><td> 0</td></tr>\n",
              "\t<tr><th scope=row>5</th><td>5</td><td> 1</td><td>44%</td><td>6.0</td><td>3.50</td><td>3.50</td><td>280</td><td>265</td><td>415</td><td>390</td><td>270</td><td>235</td><td>122.4698</td><td>106.5941</td><td> 1</td></tr>\n",
              "\t<tr><th scope=row>6</th><td>6</td><td> 2</td><td>88%</td><td>7.0</td><td>2.64</td><td>1.53</td><td>253</td><td>253</td><td>405</td><td>415</td><td>305</td><td>325</td><td>138.3456</td><td>147.4174</td><td> 0</td></tr>\n",
              "</tbody>\n",
              "</table>\n"
            ]
          },
          "metadata": {}
        }
      ]
    },
    {
      "cell_type": "markdown",
      "metadata": {
        "id": "lYPSFfoMpLfR"
      },
      "source": [
        "# **Some String Transformations**\n",
        "\n",
        "*   Substring extraction\n",
        "*   Replace\n",
        "*   Recode\n"
      ]
    },
    {
      "cell_type": "markdown",
      "metadata": {
        "id": "VdZtTVWBpLfR"
      },
      "source": [
        "## Example 1 - Substring extraction with the `substr` function\n",
        "\n",
        "**Syntax:** `substr(col, start, stop)`"
      ]
    },
    {
      "cell_type": "code",
      "metadata": {
        "id": "pT60VJMLpLfR",
        "outputId": "1d547455-a1b9-45e6-87ec-53028af239c3",
        "colab": {
          "base_uri": "https://localhost:8080/",
          "height": 35
        }
      },
      "source": [
        "# Play around\n",
        "plot_type <- surveys$plot_type\n",
        "unique(plot_type)"
      ],
      "execution_count": 23,
      "outputs": [
        {
          "output_type": "display_data",
          "data": {
            "text/plain": [
              "[1] \"Control\"                   \"Long-term Krat Exclosure\" \n",
              "[3] \"Short-term Krat Exclosure\" \"Rodent Exclosure\"         \n",
              "[5] \"Spectab exclosure\"        "
            ],
            "text/latex": "\\begin{enumerate*}\n\\item 'Control'\n\\item 'Long-term Krat Exclosure'\n\\item 'Short-term Krat Exclosure'\n\\item 'Rodent Exclosure'\n\\item 'Spectab exclosure'\n\\end{enumerate*}\n",
            "text/markdown": "1. 'Control'\n2. 'Long-term Krat Exclosure'\n3. 'Short-term Krat Exclosure'\n4. 'Rodent Exclosure'\n5. 'Spectab exclosure'\n\n\n",
            "text/html": [
              "<style>\n",
              ".list-inline {list-style: none; margin:0; padding: 0}\n",
              ".list-inline>li {display: inline-block}\n",
              ".list-inline>li:not(:last-child)::after {content: \"\\00b7\"; padding: 0 .5ex}\n",
              "</style>\n",
              "<ol class=list-inline><li>'Control'</li><li>'Long-term Krat Exclosure'</li><li>'Short-term Krat Exclosure'</li><li>'Rodent Exclosure'</li><li>'Spectab exclosure'</li></ol>\n"
            ]
          },
          "metadata": {}
        }
      ]
    },
    {
      "cell_type": "markdown",
      "metadata": {
        "id": "9BZNVpc4pLfR"
      },
      "source": [
        "**Note:** R indexing starts at 1, not 0!"
      ]
    },
    {
      "cell_type": "code",
      "metadata": {
        "id": "qVm824ezpLfS",
        "outputId": "6a61e409-ac29-4170-bbc3-ce3a61d1f4ef",
        "colab": {
          "base_uri": "https://localhost:8080/",
          "height": 35
        }
      },
      "source": [
        "new <- substr(plot_type, 1, 5)\n",
        "head(new)"
      ],
      "execution_count": 24,
      "outputs": [
        {
          "output_type": "display_data",
          "data": {
            "text/plain": [
              "[1] \"Contr\" \"Contr\" \"Contr\" \"Contr\" \"Contr\" \"Contr\""
            ],
            "text/latex": "\\begin{enumerate*}\n\\item 'Contr'\n\\item 'Contr'\n\\item 'Contr'\n\\item 'Contr'\n\\item 'Contr'\n\\item 'Contr'\n\\end{enumerate*}\n",
            "text/markdown": "1. 'Contr'\n2. 'Contr'\n3. 'Contr'\n4. 'Contr'\n5. 'Contr'\n6. 'Contr'\n\n\n",
            "text/html": [
              "<style>\n",
              ".list-inline {list-style: none; margin:0; padding: 0}\n",
              ".list-inline>li {display: inline-block}\n",
              ".list-inline>li:not(:last-child)::after {content: \"\\00b7\"; padding: 0 .5ex}\n",
              "</style>\n",
              "<ol class=list-inline><li>'Contr'</li><li>'Contr'</li><li>'Contr'</li><li>'Contr'</li><li>'Contr'</li><li>'Contr'</li></ol>\n"
            ]
          },
          "metadata": {}
        }
      ]
    },
    {
      "cell_type": "code",
      "metadata": {
        "scrolled": true,
        "id": "4QTJD01SpLfS",
        "outputId": "bf6f532e-7306-4775-ffd0-dee02963b7fd",
        "colab": {
          "base_uri": "https://localhost:8080/",
          "height": 286
        }
      },
      "source": [
        "(surveys\n",
        " %>% mutate(plot_type = substr(plot_type, 1, 5))\n",
        " %>% head\n",
        " )"
      ],
      "execution_count": 25,
      "outputs": [
        {
          "output_type": "display_data",
          "data": {
            "text/plain": [
              "  record_id month day year plot_id species_id sex hindfoot_length weight\n",
              "1   1        7    16  1977 2       NL         M   32              NA    \n",
              "2  72        8    19  1977 2       NL         M   31              NA    \n",
              "3 224        9    13  1977 2       NL             NA              NA    \n",
              "4 266       10    16  1977 2       NL             NA              NA    \n",
              "5 349       11    12  1977 2       NL             NA              NA    \n",
              "6 363       11    12  1977 2       NL             NA              NA    \n",
              "  genus   species  taxa   plot_type\n",
              "1 Neotoma albigula Rodent Contr    \n",
              "2 Neotoma albigula Rodent Contr    \n",
              "3 Neotoma albigula Rodent Contr    \n",
              "4 Neotoma albigula Rodent Contr    \n",
              "5 Neotoma albigula Rodent Contr    \n",
              "6 Neotoma albigula Rodent Contr    "
            ],
            "text/latex": "A data.frame: 6 × 13\n\\begin{tabular}{r|lllllllllllll}\n  & record\\_id & month & day & year & plot\\_id & species\\_id & sex & hindfoot\\_length & weight & genus & species & taxa & plot\\_type\\\\\n  & <int> & <int> & <int> & <int> & <int> & <chr> & <chr> & <int> & <int> & <chr> & <chr> & <chr> & <chr>\\\\\n\\hline\n\t1 &   1 &  7 & 16 & 1977 & 2 & NL & M & 32 & NA & Neotoma & albigula & Rodent & Contr\\\\\n\t2 &  72 &  8 & 19 & 1977 & 2 & NL & M & 31 & NA & Neotoma & albigula & Rodent & Contr\\\\\n\t3 & 224 &  9 & 13 & 1977 & 2 & NL &   & NA & NA & Neotoma & albigula & Rodent & Contr\\\\\n\t4 & 266 & 10 & 16 & 1977 & 2 & NL &   & NA & NA & Neotoma & albigula & Rodent & Contr\\\\\n\t5 & 349 & 11 & 12 & 1977 & 2 & NL &   & NA & NA & Neotoma & albigula & Rodent & Contr\\\\\n\t6 & 363 & 11 & 12 & 1977 & 2 & NL &   & NA & NA & Neotoma & albigula & Rodent & Contr\\\\\n\\end{tabular}\n",
            "text/markdown": "\nA data.frame: 6 × 13\n\n| <!--/--> | record_id &lt;int&gt; | month &lt;int&gt; | day &lt;int&gt; | year &lt;int&gt; | plot_id &lt;int&gt; | species_id &lt;chr&gt; | sex &lt;chr&gt; | hindfoot_length &lt;int&gt; | weight &lt;int&gt; | genus &lt;chr&gt; | species &lt;chr&gt; | taxa &lt;chr&gt; | plot_type &lt;chr&gt; |\n|---|---|---|---|---|---|---|---|---|---|---|---|---|---|\n| 1 |   1 |  7 | 16 | 1977 | 2 | NL | M | 32 | NA | Neotoma | albigula | Rodent | Contr |\n| 2 |  72 |  8 | 19 | 1977 | 2 | NL | M | 31 | NA | Neotoma | albigula | Rodent | Contr |\n| 3 | 224 |  9 | 13 | 1977 | 2 | NL | <!----> | NA | NA | Neotoma | albigula | Rodent | Contr |\n| 4 | 266 | 10 | 16 | 1977 | 2 | NL | <!----> | NA | NA | Neotoma | albigula | Rodent | Contr |\n| 5 | 349 | 11 | 12 | 1977 | 2 | NL | <!----> | NA | NA | Neotoma | albigula | Rodent | Contr |\n| 6 | 363 | 11 | 12 | 1977 | 2 | NL | <!----> | NA | NA | Neotoma | albigula | Rodent | Contr |\n\n",
            "text/html": [
              "<table class=\"dataframe\">\n",
              "<caption>A data.frame: 6 × 13</caption>\n",
              "<thead>\n",
              "\t<tr><th></th><th scope=col>record_id</th><th scope=col>month</th><th scope=col>day</th><th scope=col>year</th><th scope=col>plot_id</th><th scope=col>species_id</th><th scope=col>sex</th><th scope=col>hindfoot_length</th><th scope=col>weight</th><th scope=col>genus</th><th scope=col>species</th><th scope=col>taxa</th><th scope=col>plot_type</th></tr>\n",
              "\t<tr><th></th><th scope=col>&lt;int&gt;</th><th scope=col>&lt;int&gt;</th><th scope=col>&lt;int&gt;</th><th scope=col>&lt;int&gt;</th><th scope=col>&lt;int&gt;</th><th scope=col>&lt;chr&gt;</th><th scope=col>&lt;chr&gt;</th><th scope=col>&lt;int&gt;</th><th scope=col>&lt;int&gt;</th><th scope=col>&lt;chr&gt;</th><th scope=col>&lt;chr&gt;</th><th scope=col>&lt;chr&gt;</th><th scope=col>&lt;chr&gt;</th></tr>\n",
              "</thead>\n",
              "<tbody>\n",
              "\t<tr><th scope=row>1</th><td>  1</td><td> 7</td><td>16</td><td>1977</td><td>2</td><td>NL</td><td>M</td><td>32</td><td>NA</td><td>Neotoma</td><td>albigula</td><td>Rodent</td><td>Contr</td></tr>\n",
              "\t<tr><th scope=row>2</th><td> 72</td><td> 8</td><td>19</td><td>1977</td><td>2</td><td>NL</td><td>M</td><td>31</td><td>NA</td><td>Neotoma</td><td>albigula</td><td>Rodent</td><td>Contr</td></tr>\n",
              "\t<tr><th scope=row>3</th><td>224</td><td> 9</td><td>13</td><td>1977</td><td>2</td><td>NL</td><td> </td><td>NA</td><td>NA</td><td>Neotoma</td><td>albigula</td><td>Rodent</td><td>Contr</td></tr>\n",
              "\t<tr><th scope=row>4</th><td>266</td><td>10</td><td>16</td><td>1977</td><td>2</td><td>NL</td><td> </td><td>NA</td><td>NA</td><td>Neotoma</td><td>albigula</td><td>Rodent</td><td>Contr</td></tr>\n",
              "\t<tr><th scope=row>5</th><td>349</td><td>11</td><td>12</td><td>1977</td><td>2</td><td>NL</td><td> </td><td>NA</td><td>NA</td><td>Neotoma</td><td>albigula</td><td>Rodent</td><td>Contr</td></tr>\n",
              "\t<tr><th scope=row>6</th><td>363</td><td>11</td><td>12</td><td>1977</td><td>2</td><td>NL</td><td> </td><td>NA</td><td>NA</td><td>Neotoma</td><td>albigula</td><td>Rodent</td><td>Contr</td></tr>\n",
              "</tbody>\n",
              "</table>\n"
            ]
          },
          "metadata": {}
        }
      ]
    },
    {
      "cell_type": "markdown",
      "metadata": {
        "id": "s6z-tGKCpLfS"
      },
      "source": [
        "## <font color=\"red\"> Exercise 6.2 - Problem 2 - Creating a decade column using string functions</font>\n",
        "\n",
        "In a previous example, we used division and the `floor` function to create a `decade` column.  Another approach to this problem is to convert the years to strings and use `substr` to extract the decade.\n",
        "\n",
        "**Tasks:** The basic process for converting to decade is\n",
        "\n",
        "1. Use `as.character` to convert `year` to a string.\n",
        "2. Use `substr` to extract the first three digits.\n",
        "3. Use `paste(column, '0', sep = '')` to add on a zero.\n",
        "4. Use `as.numeric` to convert back to a numeric column.\n",
        "\n",
        "Be sure to *play around* with the columns first, THEN mutate."
      ]
    },
    {
      "cell_type": "code",
      "metadata": {
        "id": "UlsgHnLGpLfS",
        "outputId": "1cfd659f-fd2b-4054-8b3f-32c2f83113e7",
        "colab": {
          "base_uri": "https://localhost:8080/",
          "height": 286
        }
      },
      "source": [
        "head(surveys)"
      ],
      "execution_count": 26,
      "outputs": [
        {
          "output_type": "display_data",
          "data": {
            "text/plain": [
              "  record_id month day year plot_id species_id sex hindfoot_length weight\n",
              "1   1        7    16  1977 2       NL         M   32              NA    \n",
              "2  72        8    19  1977 2       NL         M   31              NA    \n",
              "3 224        9    13  1977 2       NL             NA              NA    \n",
              "4 266       10    16  1977 2       NL             NA              NA    \n",
              "5 349       11    12  1977 2       NL             NA              NA    \n",
              "6 363       11    12  1977 2       NL             NA              NA    \n",
              "  genus   species  taxa   plot_type\n",
              "1 Neotoma albigula Rodent Control  \n",
              "2 Neotoma albigula Rodent Control  \n",
              "3 Neotoma albigula Rodent Control  \n",
              "4 Neotoma albigula Rodent Control  \n",
              "5 Neotoma albigula Rodent Control  \n",
              "6 Neotoma albigula Rodent Control  "
            ],
            "text/latex": "A data.frame: 6 × 13\n\\begin{tabular}{r|lllllllllllll}\n  & record\\_id & month & day & year & plot\\_id & species\\_id & sex & hindfoot\\_length & weight & genus & species & taxa & plot\\_type\\\\\n  & <int> & <int> & <int> & <int> & <int> & <chr> & <chr> & <int> & <int> & <chr> & <chr> & <chr> & <chr>\\\\\n\\hline\n\t1 &   1 &  7 & 16 & 1977 & 2 & NL & M & 32 & NA & Neotoma & albigula & Rodent & Control\\\\\n\t2 &  72 &  8 & 19 & 1977 & 2 & NL & M & 31 & NA & Neotoma & albigula & Rodent & Control\\\\\n\t3 & 224 &  9 & 13 & 1977 & 2 & NL &   & NA & NA & Neotoma & albigula & Rodent & Control\\\\\n\t4 & 266 & 10 & 16 & 1977 & 2 & NL &   & NA & NA & Neotoma & albigula & Rodent & Control\\\\\n\t5 & 349 & 11 & 12 & 1977 & 2 & NL &   & NA & NA & Neotoma & albigula & Rodent & Control\\\\\n\t6 & 363 & 11 & 12 & 1977 & 2 & NL &   & NA & NA & Neotoma & albigula & Rodent & Control\\\\\n\\end{tabular}\n",
            "text/markdown": "\nA data.frame: 6 × 13\n\n| <!--/--> | record_id &lt;int&gt; | month &lt;int&gt; | day &lt;int&gt; | year &lt;int&gt; | plot_id &lt;int&gt; | species_id &lt;chr&gt; | sex &lt;chr&gt; | hindfoot_length &lt;int&gt; | weight &lt;int&gt; | genus &lt;chr&gt; | species &lt;chr&gt; | taxa &lt;chr&gt; | plot_type &lt;chr&gt; |\n|---|---|---|---|---|---|---|---|---|---|---|---|---|---|\n| 1 |   1 |  7 | 16 | 1977 | 2 | NL | M | 32 | NA | Neotoma | albigula | Rodent | Control |\n| 2 |  72 |  8 | 19 | 1977 | 2 | NL | M | 31 | NA | Neotoma | albigula | Rodent | Control |\n| 3 | 224 |  9 | 13 | 1977 | 2 | NL | <!----> | NA | NA | Neotoma | albigula | Rodent | Control |\n| 4 | 266 | 10 | 16 | 1977 | 2 | NL | <!----> | NA | NA | Neotoma | albigula | Rodent | Control |\n| 5 | 349 | 11 | 12 | 1977 | 2 | NL | <!----> | NA | NA | Neotoma | albigula | Rodent | Control |\n| 6 | 363 | 11 | 12 | 1977 | 2 | NL | <!----> | NA | NA | Neotoma | albigula | Rodent | Control |\n\n",
            "text/html": [
              "<table class=\"dataframe\">\n",
              "<caption>A data.frame: 6 × 13</caption>\n",
              "<thead>\n",
              "\t<tr><th></th><th scope=col>record_id</th><th scope=col>month</th><th scope=col>day</th><th scope=col>year</th><th scope=col>plot_id</th><th scope=col>species_id</th><th scope=col>sex</th><th scope=col>hindfoot_length</th><th scope=col>weight</th><th scope=col>genus</th><th scope=col>species</th><th scope=col>taxa</th><th scope=col>plot_type</th></tr>\n",
              "\t<tr><th></th><th scope=col>&lt;int&gt;</th><th scope=col>&lt;int&gt;</th><th scope=col>&lt;int&gt;</th><th scope=col>&lt;int&gt;</th><th scope=col>&lt;int&gt;</th><th scope=col>&lt;chr&gt;</th><th scope=col>&lt;chr&gt;</th><th scope=col>&lt;int&gt;</th><th scope=col>&lt;int&gt;</th><th scope=col>&lt;chr&gt;</th><th scope=col>&lt;chr&gt;</th><th scope=col>&lt;chr&gt;</th><th scope=col>&lt;chr&gt;</th></tr>\n",
              "</thead>\n",
              "<tbody>\n",
              "\t<tr><th scope=row>1</th><td>  1</td><td> 7</td><td>16</td><td>1977</td><td>2</td><td>NL</td><td>M</td><td>32</td><td>NA</td><td>Neotoma</td><td>albigula</td><td>Rodent</td><td>Control</td></tr>\n",
              "\t<tr><th scope=row>2</th><td> 72</td><td> 8</td><td>19</td><td>1977</td><td>2</td><td>NL</td><td>M</td><td>31</td><td>NA</td><td>Neotoma</td><td>albigula</td><td>Rodent</td><td>Control</td></tr>\n",
              "\t<tr><th scope=row>3</th><td>224</td><td> 9</td><td>13</td><td>1977</td><td>2</td><td>NL</td><td> </td><td>NA</td><td>NA</td><td>Neotoma</td><td>albigula</td><td>Rodent</td><td>Control</td></tr>\n",
              "\t<tr><th scope=row>4</th><td>266</td><td>10</td><td>16</td><td>1977</td><td>2</td><td>NL</td><td> </td><td>NA</td><td>NA</td><td>Neotoma</td><td>albigula</td><td>Rodent</td><td>Control</td></tr>\n",
              "\t<tr><th scope=row>5</th><td>349</td><td>11</td><td>12</td><td>1977</td><td>2</td><td>NL</td><td> </td><td>NA</td><td>NA</td><td>Neotoma</td><td>albigula</td><td>Rodent</td><td>Control</td></tr>\n",
              "\t<tr><th scope=row>6</th><td>363</td><td>11</td><td>12</td><td>1977</td><td>2</td><td>NL</td><td> </td><td>NA</td><td>NA</td><td>Neotoma</td><td>albigula</td><td>Rodent</td><td>Control</td></tr>\n",
              "</tbody>\n",
              "</table>\n"
            ]
          },
          "metadata": {}
        }
      ]
    },
    {
      "cell_type": "code",
      "metadata": {
        "id": "x7WCJJeupLfT",
        "outputId": "e874046d-d8fc-4366-e84e-5776d6e96fd9",
        "colab": {
          "base_uri": "https://localhost:8080/",
          "height": 52
        }
      },
      "source": [
        "example_paste <- paste(surveys$species_id, \"a\", sep = '')\n",
        "unique(example_paste)"
      ],
      "execution_count": 27,
      "outputs": [
        {
          "output_type": "display_data",
          "data": {
            "text/plain": [
              " [1] \"NLa\" \"DMa\" \"PFa\" \"PEa\" \"DSa\" \"PPa\" \"SHa\" \"OTa\" \"DOa\" \"OXa\" \"SSa\" \"OLa\"\n",
              "[13] \"RMa\" \"SAa\" \"PMa\" \"AHa\" \"DXa\" \"ABa\" \"CMa\" \"CQa\" \"RFa\" \"URa\" \"UPa\" \"ULa\"\n",
              "[25] \"BAa\" \"ROa\" \"SOa\" \"PBa\" \"CBa\" \"PCa\" \"PHa\" \"SFa\" \"PIa\" \"PLa\" \"PXa\" \"CVa\"\n",
              "[37] \"USa\" \"PGa\" \"ASa\" \"ZLa\" \"CSa\" \"SUa\" \"PUa\" \"STa\" \"RXa\" \"CTa\" \"SCa\" \"CUa\""
            ],
            "text/latex": "\\begin{enumerate*}\n\\item 'NLa'\n\\item 'DMa'\n\\item 'PFa'\n\\item 'PEa'\n\\item 'DSa'\n\\item 'PPa'\n\\item 'SHa'\n\\item 'OTa'\n\\item 'DOa'\n\\item 'OXa'\n\\item 'SSa'\n\\item 'OLa'\n\\item 'RMa'\n\\item 'SAa'\n\\item 'PMa'\n\\item 'AHa'\n\\item 'DXa'\n\\item 'ABa'\n\\item 'CMa'\n\\item 'CQa'\n\\item 'RFa'\n\\item 'URa'\n\\item 'UPa'\n\\item 'ULa'\n\\item 'BAa'\n\\item 'ROa'\n\\item 'SOa'\n\\item 'PBa'\n\\item 'CBa'\n\\item 'PCa'\n\\item 'PHa'\n\\item 'SFa'\n\\item 'PIa'\n\\item 'PLa'\n\\item 'PXa'\n\\item 'CVa'\n\\item 'USa'\n\\item 'PGa'\n\\item 'ASa'\n\\item 'ZLa'\n\\item 'CSa'\n\\item 'SUa'\n\\item 'PUa'\n\\item 'STa'\n\\item 'RXa'\n\\item 'CTa'\n\\item 'SCa'\n\\item 'CUa'\n\\end{enumerate*}\n",
            "text/markdown": "1. 'NLa'\n2. 'DMa'\n3. 'PFa'\n4. 'PEa'\n5. 'DSa'\n6. 'PPa'\n7. 'SHa'\n8. 'OTa'\n9. 'DOa'\n10. 'OXa'\n11. 'SSa'\n12. 'OLa'\n13. 'RMa'\n14. 'SAa'\n15. 'PMa'\n16. 'AHa'\n17. 'DXa'\n18. 'ABa'\n19. 'CMa'\n20. 'CQa'\n21. 'RFa'\n22. 'URa'\n23. 'UPa'\n24. 'ULa'\n25. 'BAa'\n26. 'ROa'\n27. 'SOa'\n28. 'PBa'\n29. 'CBa'\n30. 'PCa'\n31. 'PHa'\n32. 'SFa'\n33. 'PIa'\n34. 'PLa'\n35. 'PXa'\n36. 'CVa'\n37. 'USa'\n38. 'PGa'\n39. 'ASa'\n40. 'ZLa'\n41. 'CSa'\n42. 'SUa'\n43. 'PUa'\n44. 'STa'\n45. 'RXa'\n46. 'CTa'\n47. 'SCa'\n48. 'CUa'\n\n\n",
            "text/html": [
              "<style>\n",
              ".list-inline {list-style: none; margin:0; padding: 0}\n",
              ".list-inline>li {display: inline-block}\n",
              ".list-inline>li:not(:last-child)::after {content: \"\\00b7\"; padding: 0 .5ex}\n",
              "</style>\n",
              "<ol class=list-inline><li>'NLa'</li><li>'DMa'</li><li>'PFa'</li><li>'PEa'</li><li>'DSa'</li><li>'PPa'</li><li>'SHa'</li><li>'OTa'</li><li>'DOa'</li><li>'OXa'</li><li>'SSa'</li><li>'OLa'</li><li>'RMa'</li><li>'SAa'</li><li>'PMa'</li><li>'AHa'</li><li>'DXa'</li><li>'ABa'</li><li>'CMa'</li><li>'CQa'</li><li>'RFa'</li><li>'URa'</li><li>'UPa'</li><li>'ULa'</li><li>'BAa'</li><li>'ROa'</li><li>'SOa'</li><li>'PBa'</li><li>'CBa'</li><li>'PCa'</li><li>'PHa'</li><li>'SFa'</li><li>'PIa'</li><li>'PLa'</li><li>'PXa'</li><li>'CVa'</li><li>'USa'</li><li>'PGa'</li><li>'ASa'</li><li>'ZLa'</li><li>'CSa'</li><li>'SUa'</li><li>'PUa'</li><li>'STa'</li><li>'RXa'</li><li>'CTa'</li><li>'SCa'</li><li>'CUa'</li></ol>\n"
            ]
          },
          "metadata": {}
        }
      ]
    },
    {
      "cell_type": "code",
      "metadata": {
        "id": "he4kqaV7pLfT"
      },
      "source": [
        "# Your mutate pipe here\n",
        "surveys %>%\n",
        "mutate(as.character(year)) %>%\n"
      ],
      "execution_count": null,
      "outputs": []
    },
    {
      "cell_type": "markdown",
      "metadata": {
        "id": "r2rCAXSupLfT"
      },
      "source": [
        "## Example 2 - Using the `str_replace` function from the `stringr` library\n",
        "\n",
        "**Syntax:** `str_replace(column, pattern, replace)`"
      ]
    },
    {
      "cell_type": "markdown",
      "metadata": {
        "id": "hrCu5_wBKxjI"
      },
      "source": [
        "Remember that you can't use this function until you've loaded the `stringr` package!"
      ]
    },
    {
      "cell_type": "code",
      "metadata": {
        "id": "I8GY8OqgpLfU"
      },
      "source": [
        "library(stringr)"
      ],
      "execution_count": 28,
      "outputs": []
    },
    {
      "cell_type": "markdown",
      "metadata": {
        "id": "6IOPbIuWpLfU"
      },
      "source": [
        "### Example - Cleaning up the percents"
      ]
    },
    {
      "cell_type": "code",
      "metadata": {
        "id": "IkdQXM0FpLfU",
        "outputId": "622a1c27-ade0-4456-9657-e09296bd19bd",
        "colab": {
          "base_uri": "https://localhost:8080/",
          "height": 35
        }
      },
      "source": [
        "pct7 <- football_sleep$Pct7\n",
        "head(pct7)"
      ],
      "execution_count": 29,
      "outputs": [
        {
          "output_type": "display_data",
          "data": {
            "text/plain": [
              "[1] \"\"    \"95%\" \"90%\" \"25%\" \"44%\" \"88%\""
            ],
            "text/latex": "\\begin{enumerate*}\n\\item ''\n\\item '95\\%'\n\\item '90\\%'\n\\item '25\\%'\n\\item '44\\%'\n\\item '88\\%'\n\\end{enumerate*}\n",
            "text/markdown": "1. ''\n2. '95%'\n3. '90%'\n4. '25%'\n5. '44%'\n6. '88%'\n\n\n",
            "text/html": [
              "<style>\n",
              ".list-inline {list-style: none; margin:0; padding: 0}\n",
              ".list-inline>li {display: inline-block}\n",
              ".list-inline>li:not(:last-child)::after {content: \"\\00b7\"; padding: 0 .5ex}\n",
              "</style>\n",
              "<ol class=list-inline><li>''</li><li>'95%'</li><li>'90%'</li><li>'25%'</li><li>'44%'</li><li>'88%'</li></ol>\n"
            ]
          },
          "metadata": {}
        }
      ]
    },
    {
      "cell_type": "markdown",
      "metadata": {
        "id": "B4_4cDYxpLfV"
      },
      "source": [
        "#### (A) Try out `str_replace`"
      ]
    },
    {
      "cell_type": "code",
      "metadata": {
        "id": "3mEFFAcvpLfV",
        "outputId": "de27cf83-6270-40f7-c31f-13e44d9016da",
        "colab": {
          "base_uri": "https://localhost:8080/",
          "height": 35
        }
      },
      "source": [
        "new <- str_replace(pct7, '%', '')\n",
        "head(new)"
      ],
      "execution_count": 30,
      "outputs": [
        {
          "output_type": "display_data",
          "data": {
            "text/plain": [
              "[1] \"\"   \"95\" \"90\" \"25\" \"44\" \"88\""
            ],
            "text/latex": "\\begin{enumerate*}\n\\item ''\n\\item '95'\n\\item '90'\n\\item '25'\n\\item '44'\n\\item '88'\n\\end{enumerate*}\n",
            "text/markdown": "1. ''\n2. '95'\n3. '90'\n4. '25'\n5. '44'\n6. '88'\n\n\n",
            "text/html": [
              "<style>\n",
              ".list-inline {list-style: none; margin:0; padding: 0}\n",
              ".list-inline>li {display: inline-block}\n",
              ".list-inline>li:not(:last-child)::after {content: \"\\00b7\"; padding: 0 .5ex}\n",
              "</style>\n",
              "<ol class=list-inline><li>''</li><li>'95'</li><li>'90'</li><li>'25'</li><li>'44'</li><li>'88'</li></ol>\n"
            ]
          },
          "metadata": {}
        }
      ]
    },
    {
      "cell_type": "markdown",
      "metadata": {
        "id": "-8BYT1zrpLfV"
      },
      "source": [
        "#### (B) Switch to numeric with `as.numeric`"
      ]
    },
    {
      "cell_type": "code",
      "metadata": {
        "id": "xcSubA9BpLfV",
        "outputId": "6174d50e-9d4e-44a0-de6a-5cb99ad04d1a"
      },
      "source": [
        "new <- str_replace(pct7, '%', '') %>% as.numeric\n",
        "head(new)"
      ],
      "execution_count": null,
      "outputs": [
        {
          "data": {
            "text/html": [
              "<ol class=list-inline>\n",
              "\t<li>&lt;NA&gt;</li>\n",
              "\t<li>95</li>\n",
              "\t<li>90</li>\n",
              "\t<li>25</li>\n",
              "\t<li>44</li>\n",
              "\t<li>88</li>\n",
              "</ol>\n"
            ],
            "text/latex": [
              "\\begin{enumerate*}\n",
              "\\item <NA>\n",
              "\\item 95\n",
              "\\item 90\n",
              "\\item 25\n",
              "\\item 44\n",
              "\\item 88\n",
              "\\end{enumerate*}\n"
            ],
            "text/markdown": [
              "1. &lt;NA&gt;\n",
              "2. 95\n",
              "3. 90\n",
              "4. 25\n",
              "5. 44\n",
              "6. 88\n",
              "\n",
              "\n"
            ],
            "text/plain": [
              "[1] NA 95 90 25 44 88"
            ]
          },
          "metadata": {},
          "output_type": "display_data"
        }
      ]
    },
    {
      "cell_type": "markdown",
      "metadata": {
        "id": "LDiFyerWpLfV"
      },
      "source": [
        "#### (C) Embed in a `mutate`"
      ]
    },
    {
      "cell_type": "code",
      "metadata": {
        "id": "OIWvmWxgpLfV",
        "outputId": "8bdb1b9f-df48-4ae7-f4ac-1c8828536d99"
      },
      "source": [
        "(football_sleep\n",
        " %>% mutate(percent = str_replace(pct7, '%', '') \n",
        "                     %>% as.numeric)\n",
        " %>% head\n",
        ")"
      ],
      "execution_count": null,
      "outputs": [
        {
          "data": {
            "text/html": [
              "<table>\n",
              "<thead><tr><th scope=col>student</th><th scope=col>Class</th><th scope=col>Pct7</th><th scope=col>Avg.sleep.per.night</th><th scope=col>GPA.pre</th><th scope=col>GPA.post</th><th scope=col>Clean.pre</th><th scope=col>Clean.post</th><th scope=col>Back.pre</th><th scope=col>Back.post</th><th scope=col>Bench.pre</th><th scope=col>Bench.post</th><th scope=col>percent</th></tr></thead>\n",
              "<tbody>\n",
              "\t<tr><td>1   </td><td>NA  </td><td>    </td><td> NA </td><td>3.21</td><td>3.60</td><td>270 </td><td> NA </td><td>425 </td><td> NA </td><td>315 </td><td> NA </td><td>NA  </td></tr>\n",
              "\t<tr><td>2   </td><td> 1  </td><td>95% </td><td>7.6 </td><td>3.10</td><td>3.30</td><td>265 </td><td>290 </td><td>385 </td><td>430 </td><td>255 </td><td>275 </td><td>95  </td></tr>\n",
              "\t<tr><td>3   </td><td> 2  </td><td>90% </td><td>7.5 </td><td>2.94</td><td>3.46</td><td>264 </td><td>264 </td><td>290 </td><td>425 </td><td>290 </td><td>290 </td><td>90  </td></tr>\n",
              "\t<tr><td>4   </td><td> 2  </td><td>25% </td><td>6.0 </td><td>2.57</td><td>2.20</td><td>290 </td><td> NA </td><td>450 </td><td> NA </td><td>275 </td><td> NA </td><td>25  </td></tr>\n",
              "\t<tr><td>5   </td><td> 1  </td><td>44% </td><td>6.0 </td><td>3.50</td><td>3.50</td><td>280 </td><td>265 </td><td>415 </td><td>390 </td><td>270 </td><td>235 </td><td>44  </td></tr>\n",
              "\t<tr><td>6   </td><td> 2  </td><td>88% </td><td>7.0 </td><td>2.64</td><td>1.53</td><td>253 </td><td>253 </td><td>405 </td><td>415 </td><td>305 </td><td>325 </td><td>88  </td></tr>\n",
              "</tbody>\n",
              "</table>\n"
            ],
            "text/latex": [
              "\\begin{tabular}{r|lllllllllllll}\n",
              " student & Class & Pct7 & Avg.sleep.per.night & GPA.pre & GPA.post & Clean.pre & Clean.post & Back.pre & Back.post & Bench.pre & Bench.post & percent\\\\\n",
              "\\hline\n",
              "\t 1    & NA   &      &  NA  & 3.21 & 3.60 & 270  &  NA  & 425  &  NA  & 315  &  NA  & NA  \\\\\n",
              "\t 2     &  1    & 95\\% & 7.6   & 3.10  & 3.30  & 265   & 290   & 385   & 430   & 255   & 275   & 95   \\\\\n",
              "\t 3     &  2    & 90\\% & 7.5   & 2.94  & 3.46  & 264   & 264   & 290   & 425   & 290   & 290   & 90   \\\\\n",
              "\t 4     &  2    & 25\\% & 6.0   & 2.57  & 2.20  & 290   &  NA   & 450   &  NA   & 275   &  NA   & 25   \\\\\n",
              "\t 5     &  1    & 44\\% & 6.0   & 3.50  & 3.50  & 280   & 265   & 415   & 390   & 270   & 235   & 44   \\\\\n",
              "\t 6     &  2    & 88\\% & 7.0   & 2.64  & 1.53  & 253   & 253   & 405   & 415   & 305   & 325   & 88   \\\\\n",
              "\\end{tabular}\n"
            ],
            "text/markdown": [
              "\n",
              "student | Class | Pct7 | Avg.sleep.per.night | GPA.pre | GPA.post | Clean.pre | Clean.post | Back.pre | Back.post | Bench.pre | Bench.post | percent | \n",
              "|---|---|---|---|---|---|\n",
              "| 1    | NA   |      |  NA  | 3.21 | 3.60 | 270  |  NA  | 425  |  NA  | 315  |  NA  | NA   | \n",
              "| 2    |  1   | 95%  | 7.6  | 3.10 | 3.30 | 265  | 290  | 385  | 430  | 255  | 275  | 95   | \n",
              "| 3    |  2   | 90%  | 7.5  | 2.94 | 3.46 | 264  | 264  | 290  | 425  | 290  | 290  | 90   | \n",
              "| 4    |  2   | 25%  | 6.0  | 2.57 | 2.20 | 290  |  NA  | 450  |  NA  | 275  |  NA  | 25   | \n",
              "| 5    |  1   | 44%  | 6.0  | 3.50 | 3.50 | 280  | 265  | 415  | 390  | 270  | 235  | 44   | \n",
              "| 6    |  2   | 88%  | 7.0  | 2.64 | 1.53 | 253  | 253  | 405  | 415  | 305  | 325  | 88   | \n",
              "\n",
              "\n"
            ],
            "text/plain": [
              "  student Class Pct7 Avg.sleep.per.night GPA.pre GPA.post Clean.pre Clean.post\n",
              "1 1       NA          NA                 3.21    3.60     270        NA       \n",
              "2 2        1    95%  7.6                 3.10    3.30     265       290       \n",
              "3 3        2    90%  7.5                 2.94    3.46     264       264       \n",
              "4 4        2    25%  6.0                 2.57    2.20     290        NA       \n",
              "5 5        1    44%  6.0                 3.50    3.50     280       265       \n",
              "6 6        2    88%  7.0                 2.64    1.53     253       253       \n",
              "  Back.pre Back.post Bench.pre Bench.post percent\n",
              "1 425       NA       315        NA        NA     \n",
              "2 385      430       255       275        95     \n",
              "3 290      425       290       290        90     \n",
              "4 450       NA       275        NA        25     \n",
              "5 415      390       270       235        44     \n",
              "6 405      415       305       325        88     "
            ]
          },
          "metadata": {},
          "output_type": "display_data"
        }
      ]
    },
    {
      "cell_type": "markdown",
      "metadata": {
        "id": "mUCZKQIWpLfW"
      },
      "source": [
        "#### (D) Also compute the fraction"
      ]
    },
    {
      "cell_type": "code",
      "metadata": {
        "id": "yOCIQ-0opLfW",
        "outputId": "14e9b4ce-8822-4a5a-8264-4898532b4d6c"
      },
      "source": [
        "(football_sleep\n",
        " %>% mutate(percent = str_replace(pct7, '%', '') \n",
        "                     %>% as.numeric,\n",
        "           fraction = percent/100)\n",
        " %>% head\n",
        ")"
      ],
      "execution_count": null,
      "outputs": [
        {
          "data": {
            "text/html": [
              "<table>\n",
              "<thead><tr><th scope=col>student</th><th scope=col>Class</th><th scope=col>Pct7</th><th scope=col>Avg.sleep.per.night</th><th scope=col>GPA.pre</th><th scope=col>GPA.post</th><th scope=col>Clean.pre</th><th scope=col>Clean.post</th><th scope=col>Back.pre</th><th scope=col>Back.post</th><th scope=col>Bench.pre</th><th scope=col>Bench.post</th><th scope=col>percent</th><th scope=col>fraction</th></tr></thead>\n",
              "<tbody>\n",
              "\t<tr><td>1   </td><td>NA  </td><td>    </td><td> NA </td><td>3.21</td><td>3.60</td><td>270 </td><td> NA </td><td>425 </td><td> NA </td><td>315 </td><td> NA </td><td>NA  </td><td>  NA</td></tr>\n",
              "\t<tr><td>2   </td><td> 1  </td><td>95% </td><td>7.6 </td><td>3.10</td><td>3.30</td><td>265 </td><td>290 </td><td>385 </td><td>430 </td><td>255 </td><td>275 </td><td>95  </td><td>0.95</td></tr>\n",
              "\t<tr><td>3   </td><td> 2  </td><td>90% </td><td>7.5 </td><td>2.94</td><td>3.46</td><td>264 </td><td>264 </td><td>290 </td><td>425 </td><td>290 </td><td>290 </td><td>90  </td><td>0.90</td></tr>\n",
              "\t<tr><td>4   </td><td> 2  </td><td>25% </td><td>6.0 </td><td>2.57</td><td>2.20</td><td>290 </td><td> NA </td><td>450 </td><td> NA </td><td>275 </td><td> NA </td><td>25  </td><td>0.25</td></tr>\n",
              "\t<tr><td>5   </td><td> 1  </td><td>44% </td><td>6.0 </td><td>3.50</td><td>3.50</td><td>280 </td><td>265 </td><td>415 </td><td>390 </td><td>270 </td><td>235 </td><td>44  </td><td>0.44</td></tr>\n",
              "\t<tr><td>6   </td><td> 2  </td><td>88% </td><td>7.0 </td><td>2.64</td><td>1.53</td><td>253 </td><td>253 </td><td>405 </td><td>415 </td><td>305 </td><td>325 </td><td>88  </td><td>0.88</td></tr>\n",
              "</tbody>\n",
              "</table>\n"
            ],
            "text/latex": [
              "\\begin{tabular}{r|llllllllllllll}\n",
              " student & Class & Pct7 & Avg.sleep.per.night & GPA.pre & GPA.post & Clean.pre & Clean.post & Back.pre & Back.post & Bench.pre & Bench.post & percent & fraction\\\\\n",
              "\\hline\n",
              "\t 1    & NA   &      &  NA  & 3.21 & 3.60 & 270  &  NA  & 425  &  NA  & 315  &  NA  & NA   &   NA\\\\\n",
              "\t 2     &  1    & 95\\% & 7.6   & 3.10  & 3.30  & 265   & 290   & 385   & 430   & 255   & 275   & 95    & 0.95 \\\\\n",
              "\t 3     &  2    & 90\\% & 7.5   & 2.94  & 3.46  & 264   & 264   & 290   & 425   & 290   & 290   & 90    & 0.90 \\\\\n",
              "\t 4     &  2    & 25\\% & 6.0   & 2.57  & 2.20  & 290   &  NA   & 450   &  NA   & 275   &  NA   & 25    & 0.25 \\\\\n",
              "\t 5     &  1    & 44\\% & 6.0   & 3.50  & 3.50  & 280   & 265   & 415   & 390   & 270   & 235   & 44    & 0.44 \\\\\n",
              "\t 6     &  2    & 88\\% & 7.0   & 2.64  & 1.53  & 253   & 253   & 405   & 415   & 305   & 325   & 88    & 0.88 \\\\\n",
              "\\end{tabular}\n"
            ],
            "text/markdown": [
              "\n",
              "student | Class | Pct7 | Avg.sleep.per.night | GPA.pre | GPA.post | Clean.pre | Clean.post | Back.pre | Back.post | Bench.pre | Bench.post | percent | fraction | \n",
              "|---|---|---|---|---|---|\n",
              "| 1    | NA   |      |  NA  | 3.21 | 3.60 | 270  |  NA  | 425  |  NA  | 315  |  NA  | NA   |   NA | \n",
              "| 2    |  1   | 95%  | 7.6  | 3.10 | 3.30 | 265  | 290  | 385  | 430  | 255  | 275  | 95   | 0.95 | \n",
              "| 3    |  2   | 90%  | 7.5  | 2.94 | 3.46 | 264  | 264  | 290  | 425  | 290  | 290  | 90   | 0.90 | \n",
              "| 4    |  2   | 25%  | 6.0  | 2.57 | 2.20 | 290  |  NA  | 450  |  NA  | 275  |  NA  | 25   | 0.25 | \n",
              "| 5    |  1   | 44%  | 6.0  | 3.50 | 3.50 | 280  | 265  | 415  | 390  | 270  | 235  | 44   | 0.44 | \n",
              "| 6    |  2   | 88%  | 7.0  | 2.64 | 1.53 | 253  | 253  | 405  | 415  | 305  | 325  | 88   | 0.88 | \n",
              "\n",
              "\n"
            ],
            "text/plain": [
              "  student Class Pct7 Avg.sleep.per.night GPA.pre GPA.post Clean.pre Clean.post\n",
              "1 1       NA          NA                 3.21    3.60     270        NA       \n",
              "2 2        1    95%  7.6                 3.10    3.30     265       290       \n",
              "3 3        2    90%  7.5                 2.94    3.46     264       264       \n",
              "4 4        2    25%  6.0                 2.57    2.20     290        NA       \n",
              "5 5        1    44%  6.0                 3.50    3.50     280       265       \n",
              "6 6        2    88%  7.0                 2.64    1.53     253       253       \n",
              "  Back.pre Back.post Bench.pre Bench.post percent fraction\n",
              "1 425       NA       315        NA        NA        NA    \n",
              "2 385      430       255       275        95      0.95    \n",
              "3 290      425       290       290        90      0.90    \n",
              "4 450       NA       275        NA        25      0.25    \n",
              "5 415      390       270       235        44      0.44    \n",
              "6 405      415       305       325        88      0.88    "
            ]
          },
          "metadata": {},
          "output_type": "display_data"
        }
      ]
    },
    {
      "cell_type": "markdown",
      "metadata": {
        "id": "fqDblHh_pLfW"
      },
      "source": [
        "## <font color=\"red\"> Exercise 6.2 - Problem 3 - Replacing `-` with `_`</font>\n",
        "\n",
        "Use `str_replace` to replace all hyphens in the `plot_type` column with underscores."
      ]
    },
    {
      "cell_type": "code",
      "metadata": {
        "id": "0BWrKKFepLfW",
        "outputId": "6c1bb82d-b178-4f5b-9aab-8ee448bb63b8",
        "colab": {
          "base_uri": "https://localhost:8080/",
          "height": 35
        }
      },
      "source": [
        "unique(surveys$plot_type)"
      ],
      "execution_count": 31,
      "outputs": [
        {
          "output_type": "display_data",
          "data": {
            "text/plain": [
              "[1] \"Control\"                   \"Long-term Krat Exclosure\" \n",
              "[3] \"Short-term Krat Exclosure\" \"Rodent Exclosure\"         \n",
              "[5] \"Spectab exclosure\"        "
            ],
            "text/latex": "\\begin{enumerate*}\n\\item 'Control'\n\\item 'Long-term Krat Exclosure'\n\\item 'Short-term Krat Exclosure'\n\\item 'Rodent Exclosure'\n\\item 'Spectab exclosure'\n\\end{enumerate*}\n",
            "text/markdown": "1. 'Control'\n2. 'Long-term Krat Exclosure'\n3. 'Short-term Krat Exclosure'\n4. 'Rodent Exclosure'\n5. 'Spectab exclosure'\n\n\n",
            "text/html": [
              "<style>\n",
              ".list-inline {list-style: none; margin:0; padding: 0}\n",
              ".list-inline>li {display: inline-block}\n",
              ".list-inline>li:not(:last-child)::after {content: \"\\00b7\"; padding: 0 .5ex}\n",
              "</style>\n",
              "<ol class=list-inline><li>'Control'</li><li>'Long-term Krat Exclosure'</li><li>'Short-term Krat Exclosure'</li><li>'Rodent Exclosure'</li><li>'Spectab exclosure'</li></ol>\n"
            ]
          },
          "metadata": {}
        }
      ]
    },
    {
      "cell_type": "code",
      "metadata": {
        "id": "-RvArUDzpLfX",
        "outputId": "76b2e870-6208-432a-a6be-ba1eddae6cf5",
        "colab": {
          "base_uri": "https://localhost:8080/",
          "height": 35
        }
      },
      "source": [
        "# Your code here\n",
        "surveys2 <- (surveys %>% mutate(plot_type = str_replace(plot_type, '-', '_')))\n",
        "unique(surveys2$plot_type)"
      ],
      "execution_count": 32,
      "outputs": [
        {
          "output_type": "display_data",
          "data": {
            "text/plain": [
              "[1] \"Control\"                   \"Long_term Krat Exclosure\" \n",
              "[3] \"Short_term Krat Exclosure\" \"Rodent Exclosure\"         \n",
              "[5] \"Spectab exclosure\"        "
            ],
            "text/latex": "\\begin{enumerate*}\n\\item 'Control'\n\\item 'Long\\_term Krat Exclosure'\n\\item 'Short\\_term Krat Exclosure'\n\\item 'Rodent Exclosure'\n\\item 'Spectab exclosure'\n\\end{enumerate*}\n",
            "text/markdown": "1. 'Control'\n2. 'Long_term Krat Exclosure'\n3. 'Short_term Krat Exclosure'\n4. 'Rodent Exclosure'\n5. 'Spectab exclosure'\n\n\n",
            "text/html": [
              "<style>\n",
              ".list-inline {list-style: none; margin:0; padding: 0}\n",
              ".list-inline>li {display: inline-block}\n",
              ".list-inline>li:not(:last-child)::after {content: \"\\00b7\"; padding: 0 .5ex}\n",
              "</style>\n",
              "<ol class=list-inline><li>'Control'</li><li>'Long_term Krat Exclosure'</li><li>'Short_term Krat Exclosure'</li><li>'Rodent Exclosure'</li><li>'Spectab exclosure'</li></ol>\n"
            ]
          },
          "metadata": {}
        }
      ]
    },
    {
      "cell_type": "markdown",
      "metadata": {
        "id": "zyaRNpMHpLfX"
      },
      "source": [
        "## Example 3 - Recoding a character column\n",
        "\n",
        "\n",
        "**Syntax:**\n",
        "\n",
        "```{r}\n",
        "recode(column, \n",
        "      `old value 1` = \"new string 1\",\n",
        "      `old value 2` = \"new string 2\",\n",
        "      ...)\n",
        "```"
      ]
    },
    {
      "cell_type": "code",
      "metadata": {
        "id": "KgJ5bnugpLfX",
        "outputId": "0a87acb2-f352-4737-ced6-f02e05aa77da",
        "colab": {
          "base_uri": "https://localhost:8080/",
          "height": 446
        }
      },
      "source": [
        "(surveys\n",
        "%>% mutate(month_name = recode(month,\n",
        "                               `1` = \"Jan\",\n",
        "                               `2` = \"Feb\",\n",
        "                               `3` = \"Mar\"))\n",
        " %>% head(10)\n",
        ")"
      ],
      "execution_count": 33,
      "outputs": [
        {
          "output_type": "stream",
          "name": "stderr",
          "text": [
            "Warning message:\n",
            "“Unreplaced values treated as NA as .x is not compatible. Please specify replacements exhaustively or supply .default”\n"
          ]
        },
        {
          "output_type": "display_data",
          "data": {
            "text/plain": [
              "   record_id month day year plot_id species_id sex hindfoot_length weight\n",
              "1    1        7    16  1977 2       NL         M   32               NA   \n",
              "2   72        8    19  1977 2       NL         M   31               NA   \n",
              "3  224        9    13  1977 2       NL             NA               NA   \n",
              "4  266       10    16  1977 2       NL             NA               NA   \n",
              "5  349       11    12  1977 2       NL             NA               NA   \n",
              "6  363       11    12  1977 2       NL             NA               NA   \n",
              "7  435       12    10  1977 2       NL             NA               NA   \n",
              "8  506        1     8  1978 2       NL             NA               NA   \n",
              "9  588        2    18  1978 2       NL         M   NA              218   \n",
              "10 661        3    11  1978 2       NL             NA               NA   \n",
              "   genus   species  taxa   plot_type month_name\n",
              "1  Neotoma albigula Rodent Control   NA        \n",
              "2  Neotoma albigula Rodent Control   NA        \n",
              "3  Neotoma albigula Rodent Control   NA        \n",
              "4  Neotoma albigula Rodent Control   NA        \n",
              "5  Neotoma albigula Rodent Control   NA        \n",
              "6  Neotoma albigula Rodent Control   NA        \n",
              "7  Neotoma albigula Rodent Control   NA        \n",
              "8  Neotoma albigula Rodent Control   Jan       \n",
              "9  Neotoma albigula Rodent Control   Feb       \n",
              "10 Neotoma albigula Rodent Control   Mar       "
            ],
            "text/latex": "A data.frame: 10 × 14\n\\begin{tabular}{r|llllllllllllll}\n  & record\\_id & month & day & year & plot\\_id & species\\_id & sex & hindfoot\\_length & weight & genus & species & taxa & plot\\_type & month\\_name\\\\\n  & <int> & <int> & <int> & <int> & <int> & <chr> & <chr> & <int> & <int> & <chr> & <chr> & <chr> & <chr> & <chr>\\\\\n\\hline\n\t1 &   1 &  7 & 16 & 1977 & 2 & NL & M & 32 &  NA & Neotoma & albigula & Rodent & Control & NA \\\\\n\t2 &  72 &  8 & 19 & 1977 & 2 & NL & M & 31 &  NA & Neotoma & albigula & Rodent & Control & NA \\\\\n\t3 & 224 &  9 & 13 & 1977 & 2 & NL &   & NA &  NA & Neotoma & albigula & Rodent & Control & NA \\\\\n\t4 & 266 & 10 & 16 & 1977 & 2 & NL &   & NA &  NA & Neotoma & albigula & Rodent & Control & NA \\\\\n\t5 & 349 & 11 & 12 & 1977 & 2 & NL &   & NA &  NA & Neotoma & albigula & Rodent & Control & NA \\\\\n\t6 & 363 & 11 & 12 & 1977 & 2 & NL &   & NA &  NA & Neotoma & albigula & Rodent & Control & NA \\\\\n\t7 & 435 & 12 & 10 & 1977 & 2 & NL &   & NA &  NA & Neotoma & albigula & Rodent & Control & NA \\\\\n\t8 & 506 &  1 &  8 & 1978 & 2 & NL &   & NA &  NA & Neotoma & albigula & Rodent & Control & Jan\\\\\n\t9 & 588 &  2 & 18 & 1978 & 2 & NL & M & NA & 218 & Neotoma & albigula & Rodent & Control & Feb\\\\\n\t10 & 661 &  3 & 11 & 1978 & 2 & NL &   & NA &  NA & Neotoma & albigula & Rodent & Control & Mar\\\\\n\\end{tabular}\n",
            "text/markdown": "\nA data.frame: 10 × 14\n\n| <!--/--> | record_id &lt;int&gt; | month &lt;int&gt; | day &lt;int&gt; | year &lt;int&gt; | plot_id &lt;int&gt; | species_id &lt;chr&gt; | sex &lt;chr&gt; | hindfoot_length &lt;int&gt; | weight &lt;int&gt; | genus &lt;chr&gt; | species &lt;chr&gt; | taxa &lt;chr&gt; | plot_type &lt;chr&gt; | month_name &lt;chr&gt; |\n|---|---|---|---|---|---|---|---|---|---|---|---|---|---|---|\n| 1 |   1 |  7 | 16 | 1977 | 2 | NL | M | 32 |  NA | Neotoma | albigula | Rodent | Control | NA  |\n| 2 |  72 |  8 | 19 | 1977 | 2 | NL | M | 31 |  NA | Neotoma | albigula | Rodent | Control | NA  |\n| 3 | 224 |  9 | 13 | 1977 | 2 | NL | <!----> | NA |  NA | Neotoma | albigula | Rodent | Control | NA  |\n| 4 | 266 | 10 | 16 | 1977 | 2 | NL | <!----> | NA |  NA | Neotoma | albigula | Rodent | Control | NA  |\n| 5 | 349 | 11 | 12 | 1977 | 2 | NL | <!----> | NA |  NA | Neotoma | albigula | Rodent | Control | NA  |\n| 6 | 363 | 11 | 12 | 1977 | 2 | NL | <!----> | NA |  NA | Neotoma | albigula | Rodent | Control | NA  |\n| 7 | 435 | 12 | 10 | 1977 | 2 | NL | <!----> | NA |  NA | Neotoma | albigula | Rodent | Control | NA  |\n| 8 | 506 |  1 |  8 | 1978 | 2 | NL | <!----> | NA |  NA | Neotoma | albigula | Rodent | Control | Jan |\n| 9 | 588 |  2 | 18 | 1978 | 2 | NL | M | NA | 218 | Neotoma | albigula | Rodent | Control | Feb |\n| 10 | 661 |  3 | 11 | 1978 | 2 | NL | <!----> | NA |  NA | Neotoma | albigula | Rodent | Control | Mar |\n\n",
            "text/html": [
              "<table class=\"dataframe\">\n",
              "<caption>A data.frame: 10 × 14</caption>\n",
              "<thead>\n",
              "\t<tr><th></th><th scope=col>record_id</th><th scope=col>month</th><th scope=col>day</th><th scope=col>year</th><th scope=col>plot_id</th><th scope=col>species_id</th><th scope=col>sex</th><th scope=col>hindfoot_length</th><th scope=col>weight</th><th scope=col>genus</th><th scope=col>species</th><th scope=col>taxa</th><th scope=col>plot_type</th><th scope=col>month_name</th></tr>\n",
              "\t<tr><th></th><th scope=col>&lt;int&gt;</th><th scope=col>&lt;int&gt;</th><th scope=col>&lt;int&gt;</th><th scope=col>&lt;int&gt;</th><th scope=col>&lt;int&gt;</th><th scope=col>&lt;chr&gt;</th><th scope=col>&lt;chr&gt;</th><th scope=col>&lt;int&gt;</th><th scope=col>&lt;int&gt;</th><th scope=col>&lt;chr&gt;</th><th scope=col>&lt;chr&gt;</th><th scope=col>&lt;chr&gt;</th><th scope=col>&lt;chr&gt;</th><th scope=col>&lt;chr&gt;</th></tr>\n",
              "</thead>\n",
              "<tbody>\n",
              "\t<tr><th scope=row>1</th><td>  1</td><td> 7</td><td>16</td><td>1977</td><td>2</td><td>NL</td><td>M</td><td>32</td><td> NA</td><td>Neotoma</td><td>albigula</td><td>Rodent</td><td>Control</td><td>NA </td></tr>\n",
              "\t<tr><th scope=row>2</th><td> 72</td><td> 8</td><td>19</td><td>1977</td><td>2</td><td>NL</td><td>M</td><td>31</td><td> NA</td><td>Neotoma</td><td>albigula</td><td>Rodent</td><td>Control</td><td>NA </td></tr>\n",
              "\t<tr><th scope=row>3</th><td>224</td><td> 9</td><td>13</td><td>1977</td><td>2</td><td>NL</td><td> </td><td>NA</td><td> NA</td><td>Neotoma</td><td>albigula</td><td>Rodent</td><td>Control</td><td>NA </td></tr>\n",
              "\t<tr><th scope=row>4</th><td>266</td><td>10</td><td>16</td><td>1977</td><td>2</td><td>NL</td><td> </td><td>NA</td><td> NA</td><td>Neotoma</td><td>albigula</td><td>Rodent</td><td>Control</td><td>NA </td></tr>\n",
              "\t<tr><th scope=row>5</th><td>349</td><td>11</td><td>12</td><td>1977</td><td>2</td><td>NL</td><td> </td><td>NA</td><td> NA</td><td>Neotoma</td><td>albigula</td><td>Rodent</td><td>Control</td><td>NA </td></tr>\n",
              "\t<tr><th scope=row>6</th><td>363</td><td>11</td><td>12</td><td>1977</td><td>2</td><td>NL</td><td> </td><td>NA</td><td> NA</td><td>Neotoma</td><td>albigula</td><td>Rodent</td><td>Control</td><td>NA </td></tr>\n",
              "\t<tr><th scope=row>7</th><td>435</td><td>12</td><td>10</td><td>1977</td><td>2</td><td>NL</td><td> </td><td>NA</td><td> NA</td><td>Neotoma</td><td>albigula</td><td>Rodent</td><td>Control</td><td>NA </td></tr>\n",
              "\t<tr><th scope=row>8</th><td>506</td><td> 1</td><td> 8</td><td>1978</td><td>2</td><td>NL</td><td> </td><td>NA</td><td> NA</td><td>Neotoma</td><td>albigula</td><td>Rodent</td><td>Control</td><td>Jan</td></tr>\n",
              "\t<tr><th scope=row>9</th><td>588</td><td> 2</td><td>18</td><td>1978</td><td>2</td><td>NL</td><td>M</td><td>NA</td><td>218</td><td>Neotoma</td><td>albigula</td><td>Rodent</td><td>Control</td><td>Feb</td></tr>\n",
              "\t<tr><th scope=row>10</th><td>661</td><td> 3</td><td>11</td><td>1978</td><td>2</td><td>NL</td><td> </td><td>NA</td><td> NA</td><td>Neotoma</td><td>albigula</td><td>Rodent</td><td>Control</td><td>Mar</td></tr>\n",
              "</tbody>\n",
              "</table>\n"
            ]
          },
          "metadata": {}
        }
      ]
    },
    {
      "cell_type": "markdown",
      "metadata": {
        "id": "qLRTFiBjpLfY"
      },
      "source": [
        "## <font color=\"red\"> Exercise 6.2 - Problem 4 - Cleaning up the comic column </font>\n",
        "\n",
        "**Tasks:** \n",
        "\n",
        "1. Use `unique` to explore the `comic` column and identify problems.\n",
        "2. Use `recode` to clean up the `comic` column."
      ]
    },
    {
      "cell_type": "code",
      "metadata": {
        "id": "yIDjM1YcpLfY",
        "outputId": "891eb6c6-6d71-4047-e46b-3095fc4889f3",
        "colab": {
          "base_uri": "https://localhost:8080/",
          "height": 390
        }
      },
      "source": [
        "comics <- read.csv('https://github.com/WSU-DataScience/DSCI_210_R_notebooks/raw/main/data/Comic_Data_Messy.csv')\n",
        "comics %>% head"
      ],
      "execution_count": 34,
      "outputs": [
        {
          "output_type": "display_data",
          "data": {
            "text/plain": [
              "  page_id urlslug                                ID             \n",
              "1 666101  \\\\/Jonathan_Dillon_(Earth-616)         Public Identity\n",
              "2 280850  \\\\/John_(Mutant)_(Earth-616)           Public Identity\n",
              "3 129267  \\\\/wiki\\\\/Gene_LaBostrie_(New_Earth)   Public Identity\n",
              "4 157368  \\\\/wiki\\\\/Reemuz_(New_Earth)           Public Identity\n",
              "5  16171  \\\\/Aquon_(Earth-616)                   Secret Identity\n",
              "6 240298  \\\\/wiki\\\\/Rachel_Berkowitz_(New_Earth) Secret Identity\n",
              "  ALIGN           SEX               ALIVE               APPEARANCES\n",
              "1                 Male Characters   Living Characters    4         \n",
              "2                 Male Characters   Deceased Characters NA         \n",
              "3 Good Characters Male Characters   Living Characters   15         \n",
              "4 Good Characters Male Characters   Deceased Characters 15         \n",
              "5 Bad Characters  Male Characters   Living Characters    1         \n",
              "6 Bad Characters  Female Characters Living Characters    4         \n",
              "  FIRST.APPEARANCE comic     PHYSICAL              \n",
              "1 Apr-97           marvel    Blue Eyes , Brown Hair\n",
              "2 Oct-01           marvl     Blue Eyes , Blond Hair\n",
              "3 1987, September  DC comics  , Black Hair         \n",
              "4 1992, September  DC        Black Eyes ,          \n",
              "5 Jul-73           marvl      ,                    \n",
              "6 2002, April      DC         , Black Hair         "
            ],
            "text/latex": "A data.frame: 6 × 10\n\\begin{tabular}{r|llllllllll}\n  & page\\_id & urlslug & ID & ALIGN & SEX & ALIVE & APPEARANCES & FIRST.APPEARANCE & comic & PHYSICAL\\\\\n  & <int> & <chr> & <chr> & <chr> & <chr> & <chr> & <int> & <chr> & <chr> & <chr>\\\\\n\\hline\n\t1 & 666101 & \\textbackslash{}/Jonathan\\_Dillon\\_(Earth-616)         & Public Identity &                 & Male Characters   & Living Characters   &  4 & Apr-97          & marvel    & Blue Eyes , Brown Hair\\\\\n\t2 & 280850 & \\textbackslash{}/John\\_(Mutant)\\_(Earth-616)           & Public Identity &                 & Male Characters   & Deceased Characters & NA & Oct-01          & marvl     & Blue Eyes , Blond Hair\\\\\n\t3 & 129267 & \\textbackslash{}/wiki\\textbackslash{}/Gene\\_LaBostrie\\_(New\\_Earth)   & Public Identity & Good Characters & Male Characters   & Living Characters   & 15 & 1987, September & DC comics &  , Black Hair         \\\\\n\t4 & 157368 & \\textbackslash{}/wiki\\textbackslash{}/Reemuz\\_(New\\_Earth)           & Public Identity & Good Characters & Male Characters   & Deceased Characters & 15 & 1992, September & DC        & Black Eyes ,          \\\\\n\t5 &  16171 & \\textbackslash{}/Aquon\\_(Earth-616)                   & Secret Identity & Bad Characters  & Male Characters   & Living Characters   &  1 & Jul-73          & marvl     &  ,                    \\\\\n\t6 & 240298 & \\textbackslash{}/wiki\\textbackslash{}/Rachel\\_Berkowitz\\_(New\\_Earth) & Secret Identity & Bad Characters  & Female Characters & Living Characters   &  4 & 2002, April     & DC        &  , Black Hair         \\\\\n\\end{tabular}\n",
            "text/markdown": "\nA data.frame: 6 × 10\n\n| <!--/--> | page_id &lt;int&gt; | urlslug &lt;chr&gt; | ID &lt;chr&gt; | ALIGN &lt;chr&gt; | SEX &lt;chr&gt; | ALIVE &lt;chr&gt; | APPEARANCES &lt;int&gt; | FIRST.APPEARANCE &lt;chr&gt; | comic &lt;chr&gt; | PHYSICAL &lt;chr&gt; |\n|---|---|---|---|---|---|---|---|---|---|---|\n| 1 | 666101 | \\/Jonathan_Dillon_(Earth-616)         | Public Identity | <!----> | Male Characters   | Living Characters   |  4 | Apr-97          | marvel    | Blue Eyes , Brown Hair |\n| 2 | 280850 | \\/John_(Mutant)_(Earth-616)           | Public Identity | <!----> | Male Characters   | Deceased Characters | NA | Oct-01          | marvl     | Blue Eyes , Blond Hair |\n| 3 | 129267 | \\/wiki\\/Gene_LaBostrie_(New_Earth)   | Public Identity | Good Characters | Male Characters   | Living Characters   | 15 | 1987, September | DC comics |  , Black Hair          |\n| 4 | 157368 | \\/wiki\\/Reemuz_(New_Earth)           | Public Identity | Good Characters | Male Characters   | Deceased Characters | 15 | 1992, September | DC        | Black Eyes ,           |\n| 5 |  16171 | \\/Aquon_(Earth-616)                   | Secret Identity | Bad Characters  | Male Characters   | Living Characters   |  1 | Jul-73          | marvl     |  ,                     |\n| 6 | 240298 | \\/wiki\\/Rachel_Berkowitz_(New_Earth) | Secret Identity | Bad Characters  | Female Characters | Living Characters   |  4 | 2002, April     | DC        |  , Black Hair          |\n\n",
            "text/html": [
              "<table class=\"dataframe\">\n",
              "<caption>A data.frame: 6 × 10</caption>\n",
              "<thead>\n",
              "\t<tr><th></th><th scope=col>page_id</th><th scope=col>urlslug</th><th scope=col>ID</th><th scope=col>ALIGN</th><th scope=col>SEX</th><th scope=col>ALIVE</th><th scope=col>APPEARANCES</th><th scope=col>FIRST.APPEARANCE</th><th scope=col>comic</th><th scope=col>PHYSICAL</th></tr>\n",
              "\t<tr><th></th><th scope=col>&lt;int&gt;</th><th scope=col>&lt;chr&gt;</th><th scope=col>&lt;chr&gt;</th><th scope=col>&lt;chr&gt;</th><th scope=col>&lt;chr&gt;</th><th scope=col>&lt;chr&gt;</th><th scope=col>&lt;int&gt;</th><th scope=col>&lt;chr&gt;</th><th scope=col>&lt;chr&gt;</th><th scope=col>&lt;chr&gt;</th></tr>\n",
              "</thead>\n",
              "<tbody>\n",
              "\t<tr><th scope=row>1</th><td>666101</td><td>\\/Jonathan_Dillon_(Earth-616)        </td><td>Public Identity</td><td>               </td><td>Male Characters  </td><td>Living Characters  </td><td> 4</td><td>Apr-97         </td><td>marvel   </td><td>Blue Eyes , Brown Hair</td></tr>\n",
              "\t<tr><th scope=row>2</th><td>280850</td><td>\\/John_(Mutant)_(Earth-616)          </td><td>Public Identity</td><td>               </td><td>Male Characters  </td><td>Deceased Characters</td><td>NA</td><td>Oct-01         </td><td>marvl    </td><td>Blue Eyes , Blond Hair</td></tr>\n",
              "\t<tr><th scope=row>3</th><td>129267</td><td>\\/wiki\\/Gene_LaBostrie_(New_Earth)  </td><td>Public Identity</td><td>Good Characters</td><td>Male Characters  </td><td>Living Characters  </td><td>15</td><td>1987, September</td><td>DC comics</td><td> , Black Hair         </td></tr>\n",
              "\t<tr><th scope=row>4</th><td>157368</td><td>\\/wiki\\/Reemuz_(New_Earth)          </td><td>Public Identity</td><td>Good Characters</td><td>Male Characters  </td><td>Deceased Characters</td><td>15</td><td>1992, September</td><td>DC       </td><td>Black Eyes ,          </td></tr>\n",
              "\t<tr><th scope=row>5</th><td> 16171</td><td>\\/Aquon_(Earth-616)                  </td><td>Secret Identity</td><td>Bad Characters </td><td>Male Characters  </td><td>Living Characters  </td><td> 1</td><td>Jul-73         </td><td>marvl    </td><td> ,                    </td></tr>\n",
              "\t<tr><th scope=row>6</th><td>240298</td><td>\\/wiki\\/Rachel_Berkowitz_(New_Earth)</td><td>Secret Identity</td><td>Bad Characters </td><td>Female Characters</td><td>Living Characters  </td><td> 4</td><td>2002, April    </td><td>DC       </td><td> , Black Hair         </td></tr>\n",
              "</tbody>\n",
              "</table>\n"
            ]
          },
          "metadata": {}
        }
      ]
    },
    {
      "cell_type": "code",
      "metadata": {
        "id": "hXEef82ApLfY",
        "outputId": "213730b4-4eb3-4c77-caab-0ad6aef28451",
        "colab": {
          "base_uri": "https://localhost:8080/",
          "height": 35
        }
      },
      "source": [
        "# Your code here\n",
        "comics2 <- comics %>%\n",
        "mutate(comic = recode(comic,\n",
        "'marvel' = \"Marvel\",\n",
        "'marvl' = \"Marvel\",\n",
        "'Marvel Comics' = \"Marvel\",\n",
        "'MV' = \"Marvel\",\n",
        "'marvelcomics' = \"Marvel\",\n",
        "'DC comics' = \"DC\",\n",
        "'dc comics' = \"DC\",\n",
        "'DC Comics' = \"DC\"))\n",
        "unique(comics2$comic)"
      ],
      "execution_count": 35,
      "outputs": [
        {
          "output_type": "display_data",
          "data": {
            "text/plain": [
              "[1] \"Marvel\" \"DC\"    "
            ],
            "text/latex": "\\begin{enumerate*}\n\\item 'Marvel'\n\\item 'DC'\n\\end{enumerate*}\n",
            "text/markdown": "1. 'Marvel'\n2. 'DC'\n\n\n",
            "text/html": [
              "<style>\n",
              ".list-inline {list-style: none; margin:0; padding: 0}\n",
              ".list-inline>li {display: inline-block}\n",
              ".list-inline>li:not(:last-child)::after {content: \"\\00b7\"; padding: 0 .5ex}\n",
              "</style>\n",
              "<ol class=list-inline><li>'Marvel'</li><li>'DC'</li></ol>\n"
            ]
          },
          "metadata": {}
        }
      ]
    }
  ]
}