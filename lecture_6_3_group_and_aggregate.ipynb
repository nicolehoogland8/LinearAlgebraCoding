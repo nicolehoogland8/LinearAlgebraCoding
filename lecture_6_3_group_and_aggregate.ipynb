{
  "nbformat": 4,
  "nbformat_minor": 0,
  "metadata": {
    "kernelspec": {
      "display_name": "R",
      "language": "R",
      "name": "ir"
    },
    "language_info": {
      "codemirror_mode": "r",
      "file_extension": ".r",
      "mimetype": "text/x-r-source",
      "name": "R",
      "pygments_lexer": "r",
      "version": "3.5.1"
    },
    "colab": {
      "name": "lecture_6_3_group_and_aggregate.ipynb",
      "provenance": [],
      "include_colab_link": true
    }
  },
  "cells": [
    {
      "cell_type": "markdown",
      "metadata": {
        "id": "view-in-github",
        "colab_type": "text"
      },
      "source": [
        "<a href=\"https://colab.research.google.com/github/nicolehoogland8/LinearAlgebraCoding/blob/main/lecture_6_3_group_and_aggregate.ipynb\" target=\"_parent\"><img src=\"https://colab.research.google.com/assets/colab-badge.svg\" alt=\"Open In Colab\"/></a>"
      ]
    },
    {
      "cell_type": "markdown",
      "metadata": {
        "id": "zAXMiBsvpPW7"
      },
      "source": [
        "# Grouping and Aggregating in R"
      ]
    },
    {
      "cell_type": "code",
      "metadata": {
        "id": "Ddyg5aUUpPW-",
        "outputId": "d052d118-6462-4d47-b2ae-324f20a3720c",
        "colab": {
          "base_uri": "https://localhost:8080/"
        }
      },
      "source": [
        "library(dplyr)"
      ],
      "execution_count": 1,
      "outputs": [
        {
          "output_type": "stream",
          "name": "stderr",
          "text": [
            "\n",
            "Attaching package: ‘dplyr’\n",
            "\n",
            "\n",
            "The following objects are masked from ‘package:stats’:\n",
            "\n",
            "    filter, lag\n",
            "\n",
            "\n",
            "The following objects are masked from ‘package:base’:\n",
            "\n",
            "    intersect, setdiff, setequal, union\n",
            "\n",
            "\n"
          ]
        }
      ]
    },
    {
      "cell_type": "code",
      "metadata": {
        "colab": {
          "base_uri": "https://localhost:8080/",
          "height": 306
        },
        "id": "wY0UoRZmpPXA",
        "outputId": "89923570-0f30-4383-9b45-a31bf50f06bf"
      },
      "source": [
        "births <- read.csv('https://github.com/WSU-DataScience/DSCI_210_R_notebooks/raw/main/data/NC_Birth.csv')\n",
        "head(births)"
      ],
      "execution_count": 2,
      "outputs": [
        {
          "output_type": "display_data",
          "data": {
            "text/plain": [
              "  Father.Minority Father.Age Father.Years.of.Education Mother.Minority\n",
              "1 Nonwhite        50         12                        White          \n",
              "2 White           19          9                        White          \n",
              "3 White           37         17                        White          \n",
              "4                 NA         NA                        Nonwhite       \n",
              "5 Nonwhite        39         11                        Nonwhite       \n",
              "6 White           20         11                        Nonwhite       \n",
              "  Mother.Age Mother.Years.of.Education Marital.Status Mother.Smoker\n",
              "1 24         15                        Unmarried      N            \n",
              "2 18          9                        Unmarried      Y            \n",
              "3 35         17                        Married        N            \n",
              "4 22         14                        Unmarried      N            \n",
              "5 31         16                        Unmarried      N            \n",
              "6 19         12                        Unmarried      N            \n",
              "  Mother.Avg.Cigs Mother.Weight.Gain ⋯ Month.of.Birth Day.of.Birth Gender\n",
              "1  0              50                 ⋯  2             23           Female\n",
              "2 23              35                 ⋯  1             25           Female\n",
              "3  0              24                 ⋯  1             25           Female\n",
              "4  0              33                 ⋯ 11             10           Male  \n",
              "5  0              30                 ⋯  5             18           Female\n",
              "6  0              10                 ⋯ 11              6           Male  \n",
              "  Number.of.Prenatal.Visits Kotelchuck.Index Gestational.Age Birth.Weight.Grams\n",
              "1 10                        3_Adequate       38              2866              \n",
              "2 9                         3_Adequate       35              3121              \n",
              "3 20                        4_AdequatePlus   38              2667              \n",
              "4 15                        4_AdequatePlus   38              2696              \n",
              "5 12                        1_Inadequate     38              2979              \n",
              "6 10                        4_AdequatePlus   36              3036              \n",
              "  Low.Birth Apgar.Score.One.Minute Apgar.Score.Five.Minutes\n",
              "1 N         9                      9                       \n",
              "2 N         8                      9                       \n",
              "3 N         8                      9                       \n",
              "4 N         8                      9                       \n",
              "5 N         4                      9                       \n",
              "6 N         9                      9                       "
            ],
            "text/latex": "A data.frame: 6 × 23\n\\begin{tabular}{r|lllllllllllllllllllll}\n  & Father.Minority & Father.Age & Father.Years.of.Education & Mother.Minority & Mother.Age & Mother.Years.of.Education & Marital.Status & Mother.Smoker & Mother.Avg.Cigs & Mother.Weight.Gain & ⋯ & Month.of.Birth & Day.of.Birth & Gender & Number.of.Prenatal.Visits & Kotelchuck.Index & Gestational.Age & Birth.Weight.Grams & Low.Birth & Apgar.Score.One.Minute & Apgar.Score.Five.Minutes\\\\\n  & <chr> & <int> & <int> & <chr> & <int> & <int> & <chr> & <chr> & <int> & <int> & ⋯ & <int> & <int> & <chr> & <chr> & <chr> & <int> & <int> & <chr> & <int> & <int>\\\\\n\\hline\n\t1 & Nonwhite & 50 & 12 & White    & 24 & 15 & Unmarried & N &  0 & 50 & ⋯ &  2 & 23 & Female & 10 & 3\\_Adequate     & 38 & 2866 & N & 9 & 9\\\\\n\t2 & White    & 19 &  9 & White    & 18 &  9 & Unmarried & Y & 23 & 35 & ⋯ &  1 & 25 & Female & 9  & 3\\_Adequate     & 35 & 3121 & N & 8 & 9\\\\\n\t3 & White    & 37 & 17 & White    & 35 & 17 & Married   & N &  0 & 24 & ⋯ &  1 & 25 & Female & 20 & 4\\_AdequatePlus & 38 & 2667 & N & 8 & 9\\\\\n\t4 &          & NA & NA & Nonwhite & 22 & 14 & Unmarried & N &  0 & 33 & ⋯ & 11 & 10 & Male   & 15 & 4\\_AdequatePlus & 38 & 2696 & N & 8 & 9\\\\\n\t5 & Nonwhite & 39 & 11 & Nonwhite & 31 & 16 & Unmarried & N &  0 & 30 & ⋯ &  5 & 18 & Female & 12 & 1\\_Inadequate   & 38 & 2979 & N & 4 & 9\\\\\n\t6 & White    & 20 & 11 & Nonwhite & 19 & 12 & Unmarried & N &  0 & 10 & ⋯ & 11 &  6 & Male   & 10 & 4\\_AdequatePlus & 36 & 3036 & N & 9 & 9\\\\\n\\end{tabular}\n",
            "text/markdown": "\nA data.frame: 6 × 23\n\n| <!--/--> | Father.Minority &lt;chr&gt; | Father.Age &lt;int&gt; | Father.Years.of.Education &lt;int&gt; | Mother.Minority &lt;chr&gt; | Mother.Age &lt;int&gt; | Mother.Years.of.Education &lt;int&gt; | Marital.Status &lt;chr&gt; | Mother.Smoker &lt;chr&gt; | Mother.Avg.Cigs &lt;int&gt; | Mother.Weight.Gain &lt;int&gt; | ⋯ ⋯ | Month.of.Birth &lt;int&gt; | Day.of.Birth &lt;int&gt; | Gender &lt;chr&gt; | Number.of.Prenatal.Visits &lt;chr&gt; | Kotelchuck.Index &lt;chr&gt; | Gestational.Age &lt;int&gt; | Birth.Weight.Grams &lt;int&gt; | Low.Birth &lt;chr&gt; | Apgar.Score.One.Minute &lt;int&gt; | Apgar.Score.Five.Minutes &lt;int&gt; |\n|---|---|---|---|---|---|---|---|---|---|---|---|---|---|---|---|---|---|---|---|---|---|\n| 1 | Nonwhite | 50 | 12 | White    | 24 | 15 | Unmarried | N |  0 | 50 | ⋯ |  2 | 23 | Female | 10 | 3_Adequate     | 38 | 2866 | N | 9 | 9 |\n| 2 | White    | 19 |  9 | White    | 18 |  9 | Unmarried | Y | 23 | 35 | ⋯ |  1 | 25 | Female | 9  | 3_Adequate     | 35 | 3121 | N | 8 | 9 |\n| 3 | White    | 37 | 17 | White    | 35 | 17 | Married   | N |  0 | 24 | ⋯ |  1 | 25 | Female | 20 | 4_AdequatePlus | 38 | 2667 | N | 8 | 9 |\n| 4 | <!----> | NA | NA | Nonwhite | 22 | 14 | Unmarried | N |  0 | 33 | ⋯ | 11 | 10 | Male   | 15 | 4_AdequatePlus | 38 | 2696 | N | 8 | 9 |\n| 5 | Nonwhite | 39 | 11 | Nonwhite | 31 | 16 | Unmarried | N |  0 | 30 | ⋯ |  5 | 18 | Female | 12 | 1_Inadequate   | 38 | 2979 | N | 4 | 9 |\n| 6 | White    | 20 | 11 | Nonwhite | 19 | 12 | Unmarried | N |  0 | 10 | ⋯ | 11 |  6 | Male   | 10 | 4_AdequatePlus | 36 | 3036 | N | 9 | 9 |\n\n",
            "text/html": [
              "<table class=\"dataframe\">\n",
              "<caption>A data.frame: 6 × 23</caption>\n",
              "<thead>\n",
              "\t<tr><th></th><th scope=col>Father.Minority</th><th scope=col>Father.Age</th><th scope=col>Father.Years.of.Education</th><th scope=col>Mother.Minority</th><th scope=col>Mother.Age</th><th scope=col>Mother.Years.of.Education</th><th scope=col>Marital.Status</th><th scope=col>Mother.Smoker</th><th scope=col>Mother.Avg.Cigs</th><th scope=col>Mother.Weight.Gain</th><th scope=col>⋯</th><th scope=col>Month.of.Birth</th><th scope=col>Day.of.Birth</th><th scope=col>Gender</th><th scope=col>Number.of.Prenatal.Visits</th><th scope=col>Kotelchuck.Index</th><th scope=col>Gestational.Age</th><th scope=col>Birth.Weight.Grams</th><th scope=col>Low.Birth</th><th scope=col>Apgar.Score.One.Minute</th><th scope=col>Apgar.Score.Five.Minutes</th></tr>\n",
              "\t<tr><th></th><th scope=col>&lt;chr&gt;</th><th scope=col>&lt;int&gt;</th><th scope=col>&lt;int&gt;</th><th scope=col>&lt;chr&gt;</th><th scope=col>&lt;int&gt;</th><th scope=col>&lt;int&gt;</th><th scope=col>&lt;chr&gt;</th><th scope=col>&lt;chr&gt;</th><th scope=col>&lt;int&gt;</th><th scope=col>&lt;int&gt;</th><th scope=col>⋯</th><th scope=col>&lt;int&gt;</th><th scope=col>&lt;int&gt;</th><th scope=col>&lt;chr&gt;</th><th scope=col>&lt;chr&gt;</th><th scope=col>&lt;chr&gt;</th><th scope=col>&lt;int&gt;</th><th scope=col>&lt;int&gt;</th><th scope=col>&lt;chr&gt;</th><th scope=col>&lt;int&gt;</th><th scope=col>&lt;int&gt;</th></tr>\n",
              "</thead>\n",
              "<tbody>\n",
              "\t<tr><th scope=row>1</th><td>Nonwhite</td><td>50</td><td>12</td><td>White   </td><td>24</td><td>15</td><td>Unmarried</td><td>N</td><td> 0</td><td>50</td><td>⋯</td><td> 2</td><td>23</td><td>Female</td><td>10</td><td>3_Adequate    </td><td>38</td><td>2866</td><td>N</td><td>9</td><td>9</td></tr>\n",
              "\t<tr><th scope=row>2</th><td>White   </td><td>19</td><td> 9</td><td>White   </td><td>18</td><td> 9</td><td>Unmarried</td><td>Y</td><td>23</td><td>35</td><td>⋯</td><td> 1</td><td>25</td><td>Female</td><td>9 </td><td>3_Adequate    </td><td>35</td><td>3121</td><td>N</td><td>8</td><td>9</td></tr>\n",
              "\t<tr><th scope=row>3</th><td>White   </td><td>37</td><td>17</td><td>White   </td><td>35</td><td>17</td><td>Married  </td><td>N</td><td> 0</td><td>24</td><td>⋯</td><td> 1</td><td>25</td><td>Female</td><td>20</td><td>4_AdequatePlus</td><td>38</td><td>2667</td><td>N</td><td>8</td><td>9</td></tr>\n",
              "\t<tr><th scope=row>4</th><td>        </td><td>NA</td><td>NA</td><td>Nonwhite</td><td>22</td><td>14</td><td>Unmarried</td><td>N</td><td> 0</td><td>33</td><td>⋯</td><td>11</td><td>10</td><td>Male  </td><td>15</td><td>4_AdequatePlus</td><td>38</td><td>2696</td><td>N</td><td>8</td><td>9</td></tr>\n",
              "\t<tr><th scope=row>5</th><td>Nonwhite</td><td>39</td><td>11</td><td>Nonwhite</td><td>31</td><td>16</td><td>Unmarried</td><td>N</td><td> 0</td><td>30</td><td>⋯</td><td> 5</td><td>18</td><td>Female</td><td>12</td><td>1_Inadequate  </td><td>38</td><td>2979</td><td>N</td><td>4</td><td>9</td></tr>\n",
              "\t<tr><th scope=row>6</th><td>White   </td><td>20</td><td>11</td><td>Nonwhite</td><td>19</td><td>12</td><td>Unmarried</td><td>N</td><td> 0</td><td>10</td><td>⋯</td><td>11</td><td> 6</td><td>Male  </td><td>10</td><td>4_AdequatePlus</td><td>36</td><td>3036</td><td>N</td><td>9</td><td>9</td></tr>\n",
              "</tbody>\n",
              "</table>\n"
            ]
          },
          "metadata": {}
        }
      ]
    },
    {
      "cell_type": "markdown",
      "metadata": {
        "id": "fpUwl7iGpPXB"
      },
      "source": [
        "## Simple aggregation (and dealing with missing values)"
      ]
    },
    {
      "cell_type": "markdown",
      "metadata": {
        "id": "FdHEYMnIpPXC"
      },
      "source": [
        "#### Note: `NA + 1 == NA` in R"
      ]
    },
    {
      "cell_type": "code",
      "metadata": {
        "colab": {
          "base_uri": "https://localhost:8080/",
          "height": 129
        },
        "id": "BZL66zC9pPXC",
        "outputId": "9cb44a03-00df-4031-dfae-842085a72edd"
      },
      "source": [
        "(births \n",
        " %>% summarize(avg_father_educ = mean(Father.Years.of.Education))\n",
        " )"
      ],
      "execution_count": 3,
      "outputs": [
        {
          "output_type": "display_data",
          "data": {
            "text/plain": [
              "  avg_father_educ\n",
              "1 NA             "
            ],
            "text/latex": "A data.frame: 1 × 1\n\\begin{tabular}{l}\n avg\\_father\\_educ\\\\\n <dbl>\\\\\n\\hline\n\t NA\\\\\n\\end{tabular}\n",
            "text/markdown": "\nA data.frame: 1 × 1\n\n| avg_father_educ &lt;dbl&gt; |\n|---|\n| NA |\n\n",
            "text/html": [
              "<table class=\"dataframe\">\n",
              "<caption>A data.frame: 1 × 1</caption>\n",
              "<thead>\n",
              "\t<tr><th scope=col>avg_father_educ</th></tr>\n",
              "\t<tr><th scope=col>&lt;dbl&gt;</th></tr>\n",
              "</thead>\n",
              "<tbody>\n",
              "\t<tr><td>NA</td></tr>\n",
              "</tbody>\n",
              "</table>\n"
            ]
          },
          "metadata": {}
        }
      ]
    },
    {
      "cell_type": "markdown",
      "metadata": {
        "id": "OSs1JNtWpPXD"
      },
      "source": [
        "#### Option 1 -- Filter out incomplete rows"
      ]
    },
    {
      "cell_type": "code",
      "metadata": {
        "colab": {
          "base_uri": "https://localhost:8080/",
          "height": 129
        },
        "id": "SfSJSLQHpPXE",
        "outputId": "5361c7e4-a690-4397-bb36-f362d5a2a55c"
      },
      "source": [
        "(births \n",
        " %>% filter(complete.cases(Father.Years.of.Education)) \n",
        " %>% summarize(avg_father_educ = mean(Father.Years.of.Education))\n",
        " )"
      ],
      "execution_count": 4,
      "outputs": [
        {
          "output_type": "display_data",
          "data": {
            "text/plain": [
              "  avg_father_educ\n",
              "1 12.79394       "
            ],
            "text/latex": "A data.frame: 1 × 1\n\\begin{tabular}{l}\n avg\\_father\\_educ\\\\\n <dbl>\\\\\n\\hline\n\t 12.79394\\\\\n\\end{tabular}\n",
            "text/markdown": "\nA data.frame: 1 × 1\n\n| avg_father_educ &lt;dbl&gt; |\n|---|\n| 12.79394 |\n\n",
            "text/html": [
              "<table class=\"dataframe\">\n",
              "<caption>A data.frame: 1 × 1</caption>\n",
              "<thead>\n",
              "\t<tr><th scope=col>avg_father_educ</th></tr>\n",
              "\t<tr><th scope=col>&lt;dbl&gt;</th></tr>\n",
              "</thead>\n",
              "<tbody>\n",
              "\t<tr><td>12.79394</td></tr>\n",
              "</tbody>\n",
              "</table>\n"
            ]
          },
          "metadata": {}
        }
      ]
    },
    {
      "cell_type": "markdown",
      "metadata": {
        "id": "dI49x43ppPXF"
      },
      "source": [
        "#### Option 2 -- set `na.rm=TRUE`"
      ]
    },
    {
      "cell_type": "code",
      "metadata": {
        "colab": {
          "base_uri": "https://localhost:8080/",
          "height": 129
        },
        "id": "3x8pjEOOpPXG",
        "outputId": "3bbb1f40-2275-4f9e-bae9-82970adefe2c"
      },
      "source": [
        "(births \n",
        " %>% summarize(avg_father_educ = mean(Father.Years.of.Education, na.rm = TRUE))\n",
        " )"
      ],
      "execution_count": 5,
      "outputs": [
        {
          "output_type": "display_data",
          "data": {
            "text/plain": [
              "  avg_father_educ\n",
              "1 12.79394       "
            ],
            "text/latex": "A data.frame: 1 × 1\n\\begin{tabular}{l}\n avg\\_father\\_educ\\\\\n <dbl>\\\\\n\\hline\n\t 12.79394\\\\\n\\end{tabular}\n",
            "text/markdown": "\nA data.frame: 1 × 1\n\n| avg_father_educ &lt;dbl&gt; |\n|---|\n| 12.79394 |\n\n",
            "text/html": [
              "<table class=\"dataframe\">\n",
              "<caption>A data.frame: 1 × 1</caption>\n",
              "<thead>\n",
              "\t<tr><th scope=col>avg_father_educ</th></tr>\n",
              "\t<tr><th scope=col>&lt;dbl&gt;</th></tr>\n",
              "</thead>\n",
              "<tbody>\n",
              "\t<tr><td>12.79394</td></tr>\n",
              "</tbody>\n",
              "</table>\n"
            ]
          },
          "metadata": {}
        }
      ]
    },
    {
      "cell_type": "markdown",
      "metadata": {
        "id": "g4dgvX5bpPXG"
      },
      "source": [
        "## Grouped aggregation\n",
        "\n",
        "***One grouping variable:***"
      ]
    },
    {
      "cell_type": "code",
      "metadata": {
        "colab": {
          "base_uri": "https://localhost:8080/",
          "height": 161
        },
        "id": "8bKBGu9GpPXG",
        "outputId": "eef44abb-ea92-41cc-e531-7e921cc184c4"
      },
      "source": [
        "(births \n",
        " %>% group_by(Gender) \n",
        " %>% summarize(avg_wt = mean(Birth.Weight.Grams, na.rm = TRUE))\n",
        " )"
      ],
      "execution_count": 6,
      "outputs": [
        {
          "output_type": "display_data",
          "data": {
            "text/plain": [
              "  Gender avg_wt  \n",
              "1 Female 3203.117\n",
              "2 Male   3279.816"
            ],
            "text/latex": "A tibble: 2 × 2\n\\begin{tabular}{ll}\n Gender & avg\\_wt\\\\\n <chr> & <dbl>\\\\\n\\hline\n\t Female & 3203.117\\\\\n\t Male   & 3279.816\\\\\n\\end{tabular}\n",
            "text/markdown": "\nA tibble: 2 × 2\n\n| Gender &lt;chr&gt; | avg_wt &lt;dbl&gt; |\n|---|---|\n| Female | 3203.117 |\n| Male   | 3279.816 |\n\n",
            "text/html": [
              "<table class=\"dataframe\">\n",
              "<caption>A tibble: 2 × 2</caption>\n",
              "<thead>\n",
              "\t<tr><th scope=col>Gender</th><th scope=col>avg_wt</th></tr>\n",
              "\t<tr><th scope=col>&lt;chr&gt;</th><th scope=col>&lt;dbl&gt;</th></tr>\n",
              "</thead>\n",
              "<tbody>\n",
              "\t<tr><td>Female</td><td>3203.117</td></tr>\n",
              "\t<tr><td>Male  </td><td>3279.816</td></tr>\n",
              "</tbody>\n",
              "</table>\n"
            ]
          },
          "metadata": {}
        }
      ]
    },
    {
      "cell_type": "markdown",
      "metadata": {
        "id": "XDxYSryZpPXH"
      },
      "source": [
        "***Two grouping variables:***"
      ]
    },
    {
      "cell_type": "code",
      "metadata": {
        "colab": {
          "base_uri": "https://localhost:8080/",
          "height": 258
        },
        "id": "BUU84ESSpPXH",
        "outputId": "1182547d-bef2-41a5-b7fe-bbde1a4bf618"
      },
      "source": [
        "(births \n",
        " %>% group_by(Gender, Marital.Status) \n",
        " %>% summarize(avg_wt = mean(Birth.Weight.Grams, na.rm = TRUE))\n",
        " )"
      ],
      "execution_count": 7,
      "outputs": [
        {
          "output_type": "stream",
          "name": "stderr",
          "text": [
            "`summarise()` has grouped output by 'Gender'. You can override using the `.groups` argument.\n",
            "\n"
          ]
        },
        {
          "output_type": "display_data",
          "data": {
            "text/plain": [
              "  Gender Marital.Status avg_wt  \n",
              "1 Female Married        3249.788\n",
              "2 Female Unmarried      3137.405\n",
              "3 Male   Married        3321.245\n",
              "4 Male   Unmarried      3219.448"
            ],
            "text/latex": "A grouped\\_df: 4 × 3\n\\begin{tabular}{lll}\n Gender & Marital.Status & avg\\_wt\\\\\n <chr> & <chr> & <dbl>\\\\\n\\hline\n\t Female & Married   & 3249.788\\\\\n\t Female & Unmarried & 3137.405\\\\\n\t Male   & Married   & 3321.245\\\\\n\t Male   & Unmarried & 3219.448\\\\\n\\end{tabular}\n",
            "text/markdown": "\nA grouped_df: 4 × 3\n\n| Gender &lt;chr&gt; | Marital.Status &lt;chr&gt; | avg_wt &lt;dbl&gt; |\n|---|---|---|\n| Female | Married   | 3249.788 |\n| Female | Unmarried | 3137.405 |\n| Male   | Married   | 3321.245 |\n| Male   | Unmarried | 3219.448 |\n\n",
            "text/html": [
              "<table class=\"dataframe\">\n",
              "<caption>A grouped_df: 4 × 3</caption>\n",
              "<thead>\n",
              "\t<tr><th scope=col>Gender</th><th scope=col>Marital.Status</th><th scope=col>avg_wt</th></tr>\n",
              "\t<tr><th scope=col>&lt;chr&gt;</th><th scope=col>&lt;chr&gt;</th><th scope=col>&lt;dbl&gt;</th></tr>\n",
              "</thead>\n",
              "<tbody>\n",
              "\t<tr><td>Female</td><td>Married  </td><td>3249.788</td></tr>\n",
              "\t<tr><td>Female</td><td>Unmarried</td><td>3137.405</td></tr>\n",
              "\t<tr><td>Male  </td><td>Married  </td><td>3321.245</td></tr>\n",
              "\t<tr><td>Male  </td><td>Unmarried</td><td>3219.448</td></tr>\n",
              "</tbody>\n",
              "</table>\n"
            ]
          },
          "metadata": {}
        }
      ]
    },
    {
      "cell_type": "markdown",
      "metadata": {
        "id": "0zV_EfE8pPXH"
      },
      "source": [
        "## <font color=\"red\"> Activity 6.3 - Problem 1 </font>\n",
        "\n",
        "Use `group_by` and/or `summarize` to perform each of the following tasks.\n",
        "\n",
        "**Tasks:**\n",
        "\n",
        "1. Compute the overall average (`mean`) and standard deviation (`sd`) of the birth weights (`Birth.Weight.Grams`)\n",
        "2. Compute the overall average (`mean`) and standard deviation(`sd`) of the birth weights (`Birth.Weight.Grams`) for each category of mother's smoking status (`Mother.Smoker`)"
      ]
    },
    {
      "cell_type": "code",
      "metadata": {
        "id": "AaRtui4opPXH",
        "outputId": "b6b78d2d-a2b1-413a-faf4-072028b84590",
        "colab": {
          "base_uri": "https://localhost:8080/",
          "height": 147
        }
      },
      "source": [
        "births %>% summarize(avg.weight = mean(Birth.Weight.Grams))"
      ],
      "execution_count": 12,
      "outputs": [
        {
          "output_type": "display_data",
          "data": {
            "text/plain": [
              "  avg.weight\n",
              "1 3242.693  "
            ],
            "text/latex": "A data.frame: 1 × 1\n\\begin{tabular}{l}\n avg.weight\\\\\n <dbl>\\\\\n\\hline\n\t 3242.693\\\\\n\\end{tabular}\n",
            "text/markdown": "\nA data.frame: 1 × 1\n\n| avg.weight &lt;dbl&gt; |\n|---|\n| 3242.693 |\n\n",
            "text/html": [
              "<table class=\"dataframe\">\n",
              "<caption>A data.frame: 1 × 1</caption>\n",
              "<thead>\n",
              "\t<tr><th scope=col>avg.weight</th></tr>\n",
              "\t<tr><th scope=col>&lt;dbl&gt;</th></tr>\n",
              "</thead>\n",
              "<tbody>\n",
              "\t<tr><td>3242.693</td></tr>\n",
              "</tbody>\n",
              "</table>\n"
            ]
          },
          "metadata": {}
        }
      ]
    },
    {
      "cell_type": "code",
      "metadata": {
        "id": "T9aaJf82OvlI",
        "outputId": "3bb0c984-59f5-4d4b-caaa-326567b6065c",
        "colab": {
          "base_uri": "https://localhost:8080/",
          "height": 147
        }
      },
      "source": [
        "births %>% summarize(sd.weight = sd(Birth.Weight.Grams))"
      ],
      "execution_count": 13,
      "outputs": [
        {
          "output_type": "display_data",
          "data": {
            "text/plain": [
              "  sd.weight\n",
              "1 601.4601 "
            ],
            "text/latex": "A data.frame: 1 × 1\n\\begin{tabular}{l}\n sd.weight\\\\\n <dbl>\\\\\n\\hline\n\t 601.4601\\\\\n\\end{tabular}\n",
            "text/markdown": "\nA data.frame: 1 × 1\n\n| sd.weight &lt;dbl&gt; |\n|---|\n| 601.4601 |\n\n",
            "text/html": [
              "<table class=\"dataframe\">\n",
              "<caption>A data.frame: 1 × 1</caption>\n",
              "<thead>\n",
              "\t<tr><th scope=col>sd.weight</th></tr>\n",
              "\t<tr><th scope=col>&lt;dbl&gt;</th></tr>\n",
              "</thead>\n",
              "<tbody>\n",
              "\t<tr><td>601.4601</td></tr>\n",
              "</tbody>\n",
              "</table>\n"
            ]
          },
          "metadata": {}
        }
      ]
    },
    {
      "cell_type": "code",
      "metadata": {
        "colab": {
          "base_uri": "https://localhost:8080/",
          "height": 192
        },
        "id": "bMuwmYsgPbxV",
        "outputId": "8f5fc56f-bf49-4c57-c627-615ca4e7f8fd"
      },
      "source": [
        "births %>% group_by(Mother.Smoker) %>% summarize(grouped.avg.weight = mean(Birth.Weight.Grams))"
      ],
      "execution_count": 14,
      "outputs": [
        {
          "output_type": "display_data",
          "data": {
            "text/plain": [
              "  Mother.Smoker grouped.avg.weight\n",
              "1               3316.125          \n",
              "2 N             3269.191          \n",
              "3 Y             3038.147          "
            ],
            "text/latex": "A tibble: 3 × 2\n\\begin{tabular}{ll}\n Mother.Smoker & grouped.avg.weight\\\\\n <chr> & <dbl>\\\\\n\\hline\n\t   & 3316.125\\\\\n\t N & 3269.191\\\\\n\t Y & 3038.147\\\\\n\\end{tabular}\n",
            "text/markdown": "\nA tibble: 3 × 2\n\n| Mother.Smoker &lt;chr&gt; | grouped.avg.weight &lt;dbl&gt; |\n|---|---|\n| <!----> | 3316.125 |\n| N | 3269.191 |\n| Y | 3038.147 |\n\n",
            "text/html": [
              "<table class=\"dataframe\">\n",
              "<caption>A tibble: 3 × 2</caption>\n",
              "<thead>\n",
              "\t<tr><th scope=col>Mother.Smoker</th><th scope=col>grouped.avg.weight</th></tr>\n",
              "\t<tr><th scope=col>&lt;chr&gt;</th><th scope=col>&lt;dbl&gt;</th></tr>\n",
              "</thead>\n",
              "<tbody>\n",
              "\t<tr><td> </td><td>3316.125</td></tr>\n",
              "\t<tr><td>N</td><td>3269.191</td></tr>\n",
              "\t<tr><td>Y</td><td>3038.147</td></tr>\n",
              "</tbody>\n",
              "</table>\n"
            ]
          },
          "metadata": {}
        }
      ]
    },
    {
      "cell_type": "code",
      "metadata": {
        "colab": {
          "base_uri": "https://localhost:8080/",
          "height": 192
        },
        "id": "8Dy69bhsP7TJ",
        "outputId": "284479bf-6cf0-48cc-daf1-138b69438814"
      },
      "source": [
        "births %>% group_by(Mother.Smoker) %>% summarize(grouped.sd.weight = sd(Birth.Weight.Grams))"
      ],
      "execution_count": 15,
      "outputs": [
        {
          "output_type": "display_data",
          "data": {
            "text/plain": [
              "  Mother.Smoker grouped.sd.weight\n",
              "1               786.1369         \n",
              "2 N             601.3559         \n",
              "3 Y             557.2024         "
            ],
            "text/latex": "A tibble: 3 × 2\n\\begin{tabular}{ll}\n Mother.Smoker & grouped.sd.weight\\\\\n <chr> & <dbl>\\\\\n\\hline\n\t   & 786.1369\\\\\n\t N & 601.3559\\\\\n\t Y & 557.2024\\\\\n\\end{tabular}\n",
            "text/markdown": "\nA tibble: 3 × 2\n\n| Mother.Smoker &lt;chr&gt; | grouped.sd.weight &lt;dbl&gt; |\n|---|---|\n| <!----> | 786.1369 |\n| N | 601.3559 |\n| Y | 557.2024 |\n\n",
            "text/html": [
              "<table class=\"dataframe\">\n",
              "<caption>A tibble: 3 × 2</caption>\n",
              "<thead>\n",
              "\t<tr><th scope=col>Mother.Smoker</th><th scope=col>grouped.sd.weight</th></tr>\n",
              "\t<tr><th scope=col>&lt;chr&gt;</th><th scope=col>&lt;dbl&gt;</th></tr>\n",
              "</thead>\n",
              "<tbody>\n",
              "\t<tr><td> </td><td>786.1369</td></tr>\n",
              "\t<tr><td>N</td><td>601.3559</td></tr>\n",
              "\t<tr><td>Y</td><td>557.2024</td></tr>\n",
              "</tbody>\n",
              "</table>\n"
            ]
          },
          "metadata": {}
        }
      ]
    },
    {
      "cell_type": "markdown",
      "metadata": {
        "id": "rVBM2wtHpPXI"
      },
      "source": [
        "## Working with a Categorical Response\n",
        "\n",
        "Similar to the deficiencies we pointed out with JMP's **Table > Summary**, \n",
        "`dplyr` makes us work when creating two way summary tables for two categorical variables."
      ]
    },
    {
      "cell_type": "markdown",
      "metadata": {
        "id": "xx_vEu0hpPXI"
      },
      "source": [
        "### Getting category counts\n",
        "\n",
        "It is relatively easy to get counts for a single categorical variable or a combination of categorical variables using the `n` summary function."
      ]
    },
    {
      "cell_type": "code",
      "metadata": {
        "colab": {
          "base_uri": "https://localhost:8080/",
          "height": 317
        },
        "id": "WRrSuY5HpPXI",
        "outputId": "5fca3929-11f8-48e6-9dfe-83ea63661a69"
      },
      "source": [
        "(births \n",
        " %>% group_by(Low.Birth, Mother.Smoker) \n",
        " %>% summarize(cnt = n())\n",
        " )"
      ],
      "execution_count": null,
      "outputs": [
        {
          "output_type": "stream",
          "name": "stderr",
          "text": [
            "`summarise()` has grouped output by 'Low.Birth'. You can override using the `.groups` argument.\n",
            "\n"
          ]
        },
        {
          "output_type": "display_data",
          "data": {
            "text/plain": [
              "  Low.Birth Mother.Smoker cnt \n",
              "1 N                          7\n",
              "2 N         N             1615\n",
              "3 N         Y              203\n",
              "4 Y                          1\n",
              "5 Y         N              146\n",
              "6 Y         Y               28"
            ],
            "text/latex": "A grouped\\_df: 6 × 3\n\\begin{tabular}{lll}\n Low.Birth & Mother.Smoker & cnt\\\\\n <chr> & <chr> & <int>\\\\\n\\hline\n\t N &   &    7\\\\\n\t N & N & 1615\\\\\n\t N & Y &  203\\\\\n\t Y &   &    1\\\\\n\t Y & N &  146\\\\\n\t Y & Y &   28\\\\\n\\end{tabular}\n",
            "text/markdown": "\nA grouped_df: 6 × 3\n\n| Low.Birth &lt;chr&gt; | Mother.Smoker &lt;chr&gt; | cnt &lt;int&gt; |\n|---|---|---|\n| N | <!----> |    7 |\n| N | N | 1615 |\n| N | Y |  203 |\n| Y | <!----> |    1 |\n| Y | N |  146 |\n| Y | Y |   28 |\n\n",
            "text/html": [
              "<table class=\"dataframe\">\n",
              "<caption>A grouped_df: 6 × 3</caption>\n",
              "<thead>\n",
              "\t<tr><th scope=col>Low.Birth</th><th scope=col>Mother.Smoker</th><th scope=col>cnt</th></tr>\n",
              "\t<tr><th scope=col>&lt;chr&gt;</th><th scope=col>&lt;chr&gt;</th><th scope=col>&lt;int&gt;</th></tr>\n",
              "</thead>\n",
              "<tbody>\n",
              "\t<tr><td>N</td><td> </td><td>   7</td></tr>\n",
              "\t<tr><td>N</td><td>N</td><td>1615</td></tr>\n",
              "\t<tr><td>N</td><td>Y</td><td> 203</td></tr>\n",
              "\t<tr><td>Y</td><td> </td><td>   1</td></tr>\n",
              "\t<tr><td>Y</td><td>N</td><td> 146</td></tr>\n",
              "\t<tr><td>Y</td><td>Y</td><td>  28</td></tr>\n",
              "</tbody>\n",
              "</table>\n"
            ]
          },
          "metadata": {}
        }
      ]
    },
    {
      "cell_type": "markdown",
      "metadata": {
        "id": "0gpdmCQApPXJ"
      },
      "source": [
        "### Creating a two-way table with counts and row percents\n",
        "\n",
        "Suppose that we want to summarize the relationship between an explanatory variable (Mother Smoker) and a response variable (Low Birth) in the usual way (explanatory variable in rows, summaries for the response variables in columns.  We can accomplish this by performing the following steps.\n",
        "\n",
        "1. Determine all unique categories\n",
        "2. Make indicator columns for each response category\n",
        "3. Group by the explanatory variable and aggregate the response to get the counts by summing\n",
        "4. Compute the row percents using the resulting counts"
      ]
    },
    {
      "cell_type": "markdown",
      "metadata": {
        "id": "R3M_BPA3pPXJ"
      },
      "source": [
        "#### Step 1A - Determine the categories of the variables "
      ]
    },
    {
      "cell_type": "code",
      "metadata": {
        "colab": {
          "base_uri": "https://localhost:8080/",
          "height": 317
        },
        "id": "Yws2O8_epPXJ",
        "outputId": "f9de696d-03ad-42cd-9f78-4fae61726b1d"
      },
      "source": [
        "(births \n",
        " %>% group_by(Low.Birth, Mother.Smoker) \n",
        " %>% summarize(cnt = n())\n",
        " )"
      ],
      "execution_count": null,
      "outputs": [
        {
          "output_type": "stream",
          "name": "stderr",
          "text": [
            "`summarise()` has grouped output by 'Low.Birth'. You can override using the `.groups` argument.\n",
            "\n"
          ]
        },
        {
          "output_type": "display_data",
          "data": {
            "text/plain": [
              "  Low.Birth Mother.Smoker cnt \n",
              "1 N                          7\n",
              "2 N         N             1615\n",
              "3 N         Y              203\n",
              "4 Y                          1\n",
              "5 Y         N              146\n",
              "6 Y         Y               28"
            ],
            "text/latex": "A grouped\\_df: 6 × 3\n\\begin{tabular}{lll}\n Low.Birth & Mother.Smoker & cnt\\\\\n <chr> & <chr> & <int>\\\\\n\\hline\n\t N &   &    7\\\\\n\t N & N & 1615\\\\\n\t N & Y &  203\\\\\n\t Y &   &    1\\\\\n\t Y & N &  146\\\\\n\t Y & Y &   28\\\\\n\\end{tabular}\n",
            "text/markdown": "\nA grouped_df: 6 × 3\n\n| Low.Birth &lt;chr&gt; | Mother.Smoker &lt;chr&gt; | cnt &lt;int&gt; |\n|---|---|---|\n| N | <!----> |    7 |\n| N | N | 1615 |\n| N | Y |  203 |\n| Y | <!----> |    1 |\n| Y | N |  146 |\n| Y | Y |   28 |\n\n",
            "text/html": [
              "<table class=\"dataframe\">\n",
              "<caption>A grouped_df: 6 × 3</caption>\n",
              "<thead>\n",
              "\t<tr><th scope=col>Low.Birth</th><th scope=col>Mother.Smoker</th><th scope=col>cnt</th></tr>\n",
              "\t<tr><th scope=col>&lt;chr&gt;</th><th scope=col>&lt;chr&gt;</th><th scope=col>&lt;int&gt;</th></tr>\n",
              "</thead>\n",
              "<tbody>\n",
              "\t<tr><td>N</td><td> </td><td>   7</td></tr>\n",
              "\t<tr><td>N</td><td>N</td><td>1615</td></tr>\n",
              "\t<tr><td>N</td><td>Y</td><td> 203</td></tr>\n",
              "\t<tr><td>Y</td><td> </td><td>   1</td></tr>\n",
              "\t<tr><td>Y</td><td>N</td><td> 146</td></tr>\n",
              "\t<tr><td>Y</td><td>Y</td><td>  28</td></tr>\n",
              "</tbody>\n",
              "</table>\n"
            ]
          },
          "metadata": {}
        }
      ]
    },
    {
      "cell_type": "markdown",
      "metadata": {
        "id": "YRY1IIRTpPXK"
      },
      "source": [
        "#### Step 2A - Create indicator columns for each category of the response variable."
      ]
    },
    {
      "cell_type": "code",
      "metadata": {
        "colab": {
          "base_uri": "https://localhost:8080/",
          "height": 283
        },
        "id": "rtGO_TKepPXK",
        "outputId": "340dc8ab-a35e-49e7-b5ab-245343ffabd0"
      },
      "source": [
        "(births \n",
        " %>% select(Mother.Smoker, Low.Birth) # Temp. for convenient\n",
        " %>% mutate(low_birth = ifelse(Low.Birth=='Y',1,0),\n",
        "            not_low_birth = ifelse(Low.Birth=='N',1,0)) \n",
        " %>% head # Temp. for convenient\n",
        ")"
      ],
      "execution_count": null,
      "outputs": [
        {
          "output_type": "display_data",
          "data": {
            "text/plain": [
              "  Mother.Smoker Low.Birth low_birth not_low_birth\n",
              "1 N             N         0         1            \n",
              "2 Y             N         0         1            \n",
              "3 N             N         0         1            \n",
              "4 N             N         0         1            \n",
              "5 N             N         0         1            \n",
              "6 N             N         0         1            "
            ],
            "text/latex": "A data.frame: 6 × 4\n\\begin{tabular}{r|llll}\n  & Mother.Smoker & Low.Birth & low\\_birth & not\\_low\\_birth\\\\\n  & <chr> & <chr> & <dbl> & <dbl>\\\\\n\\hline\n\t1 & N & N & 0 & 1\\\\\n\t2 & Y & N & 0 & 1\\\\\n\t3 & N & N & 0 & 1\\\\\n\t4 & N & N & 0 & 1\\\\\n\t5 & N & N & 0 & 1\\\\\n\t6 & N & N & 0 & 1\\\\\n\\end{tabular}\n",
            "text/markdown": "\nA data.frame: 6 × 4\n\n| <!--/--> | Mother.Smoker &lt;chr&gt; | Low.Birth &lt;chr&gt; | low_birth &lt;dbl&gt; | not_low_birth &lt;dbl&gt; |\n|---|---|---|---|---|\n| 1 | N | N | 0 | 1 |\n| 2 | Y | N | 0 | 1 |\n| 3 | N | N | 0 | 1 |\n| 4 | N | N | 0 | 1 |\n| 5 | N | N | 0 | 1 |\n| 6 | N | N | 0 | 1 |\n\n",
            "text/html": [
              "<table class=\"dataframe\">\n",
              "<caption>A data.frame: 6 × 4</caption>\n",
              "<thead>\n",
              "\t<tr><th></th><th scope=col>Mother.Smoker</th><th scope=col>Low.Birth</th><th scope=col>low_birth</th><th scope=col>not_low_birth</th></tr>\n",
              "\t<tr><th></th><th scope=col>&lt;chr&gt;</th><th scope=col>&lt;chr&gt;</th><th scope=col>&lt;dbl&gt;</th><th scope=col>&lt;dbl&gt;</th></tr>\n",
              "</thead>\n",
              "<tbody>\n",
              "\t<tr><th scope=row>1</th><td>N</td><td>N</td><td>0</td><td>1</td></tr>\n",
              "\t<tr><th scope=row>2</th><td>Y</td><td>N</td><td>0</td><td>1</td></tr>\n",
              "\t<tr><th scope=row>3</th><td>N</td><td>N</td><td>0</td><td>1</td></tr>\n",
              "\t<tr><th scope=row>4</th><td>N</td><td>N</td><td>0</td><td>1</td></tr>\n",
              "\t<tr><th scope=row>5</th><td>N</td><td>N</td><td>0</td><td>1</td></tr>\n",
              "\t<tr><th scope=row>6</th><td>N</td><td>N</td><td>0</td><td>1</td></tr>\n",
              "</tbody>\n",
              "</table>\n"
            ]
          },
          "metadata": {}
        }
      ]
    },
    {
      "cell_type": "markdown",
      "metadata": {
        "id": "RqVwxtq7pPXK"
      },
      "source": [
        "#### Step 3 - Compute the `sum` of each indicator"
      ]
    },
    {
      "cell_type": "code",
      "metadata": {
        "colab": {
          "base_uri": "https://localhost:8080/",
          "height": 190
        },
        "id": "RCnhVtkVpPXL",
        "outputId": "7cb4f694-4beb-4d58-e4fb-b7595d1e4ae5"
      },
      "source": [
        "(births \n",
        " %>% mutate(low_birth = ifelse(Low.Birth=='Y',1,0),\n",
        "            not_low_birth = ifelse(Low.Birth=='N',1,0))\n",
        " %>% group_by(Mother.Smoker)\n",
        " %>% summarise(total_low_birth = sum(low_birth),\n",
        "               total_not_low_birth = sum(not_low_birth))\n",
        ")"
      ],
      "execution_count": null,
      "outputs": [
        {
          "output_type": "display_data",
          "data": {
            "text/plain": [
              "  Mother.Smoker total_low_birth total_not_low_birth\n",
              "1                 1                7               \n",
              "2 N             146             1615               \n",
              "3 Y              28              203               "
            ],
            "text/latex": "A tibble: 3 × 3\n\\begin{tabular}{lll}\n Mother.Smoker & total\\_low\\_birth & total\\_not\\_low\\_birth\\\\\n <chr> & <dbl> & <dbl>\\\\\n\\hline\n\t   &   1 &    7\\\\\n\t N & 146 & 1615\\\\\n\t Y &  28 &  203\\\\\n\\end{tabular}\n",
            "text/markdown": "\nA tibble: 3 × 3\n\n| Mother.Smoker &lt;chr&gt; | total_low_birth &lt;dbl&gt; | total_not_low_birth &lt;dbl&gt; |\n|---|---|---|\n| <!----> |   1 |    7 |\n| N | 146 | 1615 |\n| Y |  28 |  203 |\n\n",
            "text/html": [
              "<table class=\"dataframe\">\n",
              "<caption>A tibble: 3 × 3</caption>\n",
              "<thead>\n",
              "\t<tr><th scope=col>Mother.Smoker</th><th scope=col>total_low_birth</th><th scope=col>total_not_low_birth</th></tr>\n",
              "\t<tr><th scope=col>&lt;chr&gt;</th><th scope=col>&lt;dbl&gt;</th><th scope=col>&lt;dbl&gt;</th></tr>\n",
              "</thead>\n",
              "<tbody>\n",
              "\t<tr><td> </td><td>  1</td><td>   7</td></tr>\n",
              "\t<tr><td>N</td><td>146</td><td>1615</td></tr>\n",
              "\t<tr><td>Y</td><td> 28</td><td> 203</td></tr>\n",
              "</tbody>\n",
              "</table>\n"
            ]
          },
          "metadata": {}
        }
      ]
    },
    {
      "cell_type": "markdown",
      "metadata": {
        "id": "5i7aAnW3pPXL"
      },
      "source": [
        "#### Step 4 - Compute the row percents"
      ]
    },
    {
      "cell_type": "code",
      "metadata": {
        "colab": {
          "base_uri": "https://localhost:8080/",
          "height": 190
        },
        "id": "fvn20FMzpPXL",
        "outputId": "74900cea-c596-429a-fbae-a5aec8e7bc12"
      },
      "source": [
        "(births \n",
        " %>% mutate(low_birth = ifelse(Low.Birth=='Y',1,0),\n",
        "            not_low_birth = ifelse(Low.Birth=='N',1,0))\n",
        " %>% group_by(Mother.Smoker)\n",
        " %>% summarise(total_low_birth = sum(low_birth),\n",
        "               total_not_low_birth = sum(not_low_birth))\n",
        " %>% mutate(percent_low_birth = round(total_low_birth/(total_low_birth + total_not_low_birth)*100, 1),\n",
        "            percent_not_low_birth = round(total_not_low_birth/(total_low_birth + total_not_low_birth)*100, 1))\n",
        ")"
      ],
      "execution_count": null,
      "outputs": [
        {
          "output_type": "display_data",
          "data": {
            "text/plain": [
              "  Mother.Smoker total_low_birth total_not_low_birth percent_low_birth\n",
              "1                 1                7                12.5             \n",
              "2 N             146             1615                 8.3             \n",
              "3 Y              28              203                12.1             \n",
              "  percent_not_low_birth\n",
              "1 87.5                 \n",
              "2 91.7                 \n",
              "3 87.9                 "
            ],
            "text/latex": "A tibble: 3 × 5\n\\begin{tabular}{lllll}\n Mother.Smoker & total\\_low\\_birth & total\\_not\\_low\\_birth & percent\\_low\\_birth & percent\\_not\\_low\\_birth\\\\\n <chr> & <dbl> & <dbl> & <dbl> & <dbl>\\\\\n\\hline\n\t   &   1 &    7 & 12.5 & 87.5\\\\\n\t N & 146 & 1615 &  8.3 & 91.7\\\\\n\t Y &  28 &  203 & 12.1 & 87.9\\\\\n\\end{tabular}\n",
            "text/markdown": "\nA tibble: 3 × 5\n\n| Mother.Smoker &lt;chr&gt; | total_low_birth &lt;dbl&gt; | total_not_low_birth &lt;dbl&gt; | percent_low_birth &lt;dbl&gt; | percent_not_low_birth &lt;dbl&gt; |\n|---|---|---|---|---|\n| <!----> |   1 |    7 | 12.5 | 87.5 |\n| N | 146 | 1615 |  8.3 | 91.7 |\n| Y |  28 |  203 | 12.1 | 87.9 |\n\n",
            "text/html": [
              "<table class=\"dataframe\">\n",
              "<caption>A tibble: 3 × 5</caption>\n",
              "<thead>\n",
              "\t<tr><th scope=col>Mother.Smoker</th><th scope=col>total_low_birth</th><th scope=col>total_not_low_birth</th><th scope=col>percent_low_birth</th><th scope=col>percent_not_low_birth</th></tr>\n",
              "\t<tr><th scope=col>&lt;chr&gt;</th><th scope=col>&lt;dbl&gt;</th><th scope=col>&lt;dbl&gt;</th><th scope=col>&lt;dbl&gt;</th><th scope=col>&lt;dbl&gt;</th></tr>\n",
              "</thead>\n",
              "<tbody>\n",
              "\t<tr><td> </td><td>  1</td><td>   7</td><td>12.5</td><td>87.5</td></tr>\n",
              "\t<tr><td>N</td><td>146</td><td>1615</td><td> 8.3</td><td>91.7</td></tr>\n",
              "\t<tr><td>Y</td><td> 28</td><td> 203</td><td>12.1</td><td>87.9</td></tr>\n",
              "</tbody>\n",
              "</table>\n"
            ]
          },
          "metadata": {}
        }
      ]
    },
    {
      "cell_type": "markdown",
      "metadata": {
        "id": "zhKTe-gJpPXL"
      },
      "source": [
        "#### [Optional] Step 5 - Make `NA` more readable"
      ]
    },
    {
      "cell_type": "code",
      "metadata": {
        "id": "ICIiYWDYpPXL",
        "outputId": "8cd97fcb-b86a-4429-cb12-8fd2fccb3fc9"
      },
      "source": [
        "(births \n",
        " %>% mutate(low_birth = ifelse(Low.Birth=='Y',1,0),\n",
        "            not_low_birth = ifelse(Low.Birth=='N',1,0))\n",
        " %>% group_by(Mother.Smoker)\n",
        " %>% summarise(total_low_birth = sum(low_birth),\n",
        "               total_not_low_birth = sum(not_low_birth))\n",
        " %>% mutate(percent_low_birth = round(total_low_birth/(total_low_birth + total_not_low_birth)*100, 1),\n",
        "            percent_not_low_birth = round(total_not_low_birth/(total_low_birth + total_not_low_birth)*100, 1),\n",
        "            Mother.Smoker = recode(Mother.Smoker,\n",
        "                                   `Y` = 'Y',\n",
        "                                   `N` = 'N',\n",
        "                                   .default = \"Unknown\"))\n",
        ")"
      ],
      "execution_count": null,
      "outputs": [
        {
          "name": "stderr",
          "output_type": "stream",
          "text": [
            "`summarise()` ungrouping output (override with `.groups` argument)\n"
          ]
        },
        {
          "data": {
            "text/html": [
              "<table>\n",
              "<thead><tr><th scope=col>Mother.Smoker</th><th scope=col>total_low_birth</th><th scope=col>total_not_low_birth</th><th scope=col>percent_low_birth</th><th scope=col>percent_not_low_birth</th></tr></thead>\n",
              "<tbody>\n",
              "\t<tr><td>Unknown</td><td>  1    </td><td>   7   </td><td>12.5   </td><td>87.5   </td></tr>\n",
              "\t<tr><td>N      </td><td>146    </td><td>1615   </td><td> 8.3   </td><td>91.7   </td></tr>\n",
              "\t<tr><td>Y      </td><td> 28    </td><td> 203   </td><td>12.1   </td><td>87.9   </td></tr>\n",
              "</tbody>\n",
              "</table>\n"
            ],
            "text/latex": [
              "\\begin{tabular}{r|lllll}\n",
              " Mother.Smoker & total\\_low\\_birth & total\\_not\\_low\\_birth & percent\\_low\\_birth & percent\\_not\\_low\\_birth\\\\\n",
              "\\hline\n",
              "\t Unknown &   1     &    7    & 12.5    & 87.5   \\\\\n",
              "\t N       & 146     & 1615    &  8.3    & 91.7   \\\\\n",
              "\t Y       &  28     &  203    & 12.1    & 87.9   \\\\\n",
              "\\end{tabular}\n"
            ],
            "text/markdown": [
              "\n",
              "Mother.Smoker | total_low_birth | total_not_low_birth | percent_low_birth | percent_not_low_birth | \n",
              "|---|---|---|\n",
              "| Unknown |   1     |    7    | 12.5    | 87.5    | \n",
              "| N       | 146     | 1615    |  8.3    | 91.7    | \n",
              "| Y       |  28     |  203    | 12.1    | 87.9    | \n",
              "\n",
              "\n"
            ],
            "text/plain": [
              "  Mother.Smoker total_low_birth total_not_low_birth percent_low_birth\n",
              "1 Unknown         1                7                12.5             \n",
              "2 N             146             1615                 8.3             \n",
              "3 Y              28              203                12.1             \n",
              "  percent_not_low_birth\n",
              "1 87.5                 \n",
              "2 91.7                 \n",
              "3 87.9                 "
            ]
          },
          "metadata": {},
          "output_type": "display_data"
        }
      ]
    },
    {
      "cell_type": "markdown",
      "metadata": {
        "id": "z6t6afm4pPXL"
      },
      "source": [
        "## <font color=\"red\"> Activity 6.3 - Problem 2 </font>\n",
        "\n",
        "Use `group_by` and/or `summarize` to perform each of the following tasks.\n",
        "\n",
        "**Tasks:**\n",
        "\n",
        "1. Compute the counts (`n()`) for each category of the [Kotelchuck index](https://www-doh.state.nj.us/doh-shad/query/Kotelchuck.html) (`Kotelchuck.Index`)\n",
        "2. Compute the counts and row percents when the explanatory variable is the Kotelchuck index (`Kotelchuck.Index`) and the response variable is whether or not there was a low birth weight (`Low.Birth`)"
      ]
    },
    {
      "cell_type": "code",
      "metadata": {
        "id": "TngazFARpPXM",
        "outputId": "76409dc6-7534-4ba4-b11d-541359474b3a",
        "colab": {
          "base_uri": "https://localhost:8080/",
          "height": 255
        }
      },
      "source": [
        "births %>% group_by(Kotelchuck.Index) %>% summarize(cnt = n())\n"
      ],
      "execution_count": 16,
      "outputs": [
        {
          "output_type": "display_data",
          "data": {
            "text/plain": [
              "  Kotelchuck.Index cnt\n",
              "1 1_Inadequate     233\n",
              "2 2_Intermediate   160\n",
              "3 3_Adequate       727\n",
              "4 4_AdequatePlus   851\n",
              "5 5_NotReported     29"
            ],
            "text/latex": "A tibble: 5 × 2\n\\begin{tabular}{ll}\n Kotelchuck.Index & cnt\\\\\n <chr> & <int>\\\\\n\\hline\n\t 1\\_Inadequate   & 233\\\\\n\t 2\\_Intermediate & 160\\\\\n\t 3\\_Adequate     & 727\\\\\n\t 4\\_AdequatePlus & 851\\\\\n\t 5\\_NotReported  &  29\\\\\n\\end{tabular}\n",
            "text/markdown": "\nA tibble: 5 × 2\n\n| Kotelchuck.Index &lt;chr&gt; | cnt &lt;int&gt; |\n|---|---|\n| 1_Inadequate   | 233 |\n| 2_Intermediate | 160 |\n| 3_Adequate     | 727 |\n| 4_AdequatePlus | 851 |\n| 5_NotReported  |  29 |\n\n",
            "text/html": [
              "<table class=\"dataframe\">\n",
              "<caption>A tibble: 5 × 2</caption>\n",
              "<thead>\n",
              "\t<tr><th scope=col>Kotelchuck.Index</th><th scope=col>cnt</th></tr>\n",
              "\t<tr><th scope=col>&lt;chr&gt;</th><th scope=col>&lt;int&gt;</th></tr>\n",
              "</thead>\n",
              "<tbody>\n",
              "\t<tr><td>1_Inadequate  </td><td>233</td></tr>\n",
              "\t<tr><td>2_Intermediate</td><td>160</td></tr>\n",
              "\t<tr><td>3_Adequate    </td><td>727</td></tr>\n",
              "\t<tr><td>4_AdequatePlus</td><td>851</td></tr>\n",
              "\t<tr><td>5_NotReported </td><td> 29</td></tr>\n",
              "</tbody>\n",
              "</table>\n"
            ]
          },
          "metadata": {}
        }
      ]
    },
    {
      "cell_type": "code",
      "metadata": {
        "id": "Mv6rvJmARnT4",
        "outputId": "fe0896fd-11b8-473a-975b-05088a56a100",
        "colab": {
          "base_uri": "https://localhost:8080/",
          "height": 255
        }
      },
      "source": [
        "(births %>% mutate(low_birth = ifelse(Low.Birth == 'Y',1,0),\n",
        "not_low_birth = ifelse(Low.Birth == 'N',1,0))\n",
        "%>% group_by(Kotelchuck.Index)\n",
        "%>% summarise(total_low_birth = sum(low_birth), total_not_low_birth = sum(not_low_birth))\n",
        "%>% mutate(percent_low_birth = round(total_low_birth/(total_low_birth + total_not_low_birth)*100, 1),\n",
        "            percent_not_low_birth = round(total_not_low_birth/(total_low_birth + total_not_low_birth)*100, 1))\n",
        ")"
      ],
      "execution_count": 22,
      "outputs": [
        {
          "output_type": "display_data",
          "data": {
            "text/plain": [
              "  Kotelchuck.Index total_low_birth total_not_low_birth percent_low_birth\n",
              "1 1_Inadequate      16             217                  6.9             \n",
              "2 2_Intermediate    12             148                  7.5             \n",
              "3 3_Adequate        24             703                  3.3             \n",
              "4 4_AdequatePlus   119             732                 14.0             \n",
              "5 5_NotReported      4              25                 13.8             \n",
              "  percent_not_low_birth\n",
              "1 93.1                 \n",
              "2 92.5                 \n",
              "3 96.7                 \n",
              "4 86.0                 \n",
              "5 86.2                 "
            ],
            "text/latex": "A tibble: 5 × 5\n\\begin{tabular}{lllll}\n Kotelchuck.Index & total\\_low\\_birth & total\\_not\\_low\\_birth & percent\\_low\\_birth & percent\\_not\\_low\\_birth\\\\\n <chr> & <dbl> & <dbl> & <dbl> & <dbl>\\\\\n\\hline\n\t 1\\_Inadequate   &  16 & 217 &  6.9 & 93.1\\\\\n\t 2\\_Intermediate &  12 & 148 &  7.5 & 92.5\\\\\n\t 3\\_Adequate     &  24 & 703 &  3.3 & 96.7\\\\\n\t 4\\_AdequatePlus & 119 & 732 & 14.0 & 86.0\\\\\n\t 5\\_NotReported  &   4 &  25 & 13.8 & 86.2\\\\\n\\end{tabular}\n",
            "text/markdown": "\nA tibble: 5 × 5\n\n| Kotelchuck.Index &lt;chr&gt; | total_low_birth &lt;dbl&gt; | total_not_low_birth &lt;dbl&gt; | percent_low_birth &lt;dbl&gt; | percent_not_low_birth &lt;dbl&gt; |\n|---|---|---|---|---|\n| 1_Inadequate   |  16 | 217 |  6.9 | 93.1 |\n| 2_Intermediate |  12 | 148 |  7.5 | 92.5 |\n| 3_Adequate     |  24 | 703 |  3.3 | 96.7 |\n| 4_AdequatePlus | 119 | 732 | 14.0 | 86.0 |\n| 5_NotReported  |   4 |  25 | 13.8 | 86.2 |\n\n",
            "text/html": [
              "<table class=\"dataframe\">\n",
              "<caption>A tibble: 5 × 5</caption>\n",
              "<thead>\n",
              "\t<tr><th scope=col>Kotelchuck.Index</th><th scope=col>total_low_birth</th><th scope=col>total_not_low_birth</th><th scope=col>percent_low_birth</th><th scope=col>percent_not_low_birth</th></tr>\n",
              "\t<tr><th scope=col>&lt;chr&gt;</th><th scope=col>&lt;dbl&gt;</th><th scope=col>&lt;dbl&gt;</th><th scope=col>&lt;dbl&gt;</th><th scope=col>&lt;dbl&gt;</th></tr>\n",
              "</thead>\n",
              "<tbody>\n",
              "\t<tr><td>1_Inadequate  </td><td> 16</td><td>217</td><td> 6.9</td><td>93.1</td></tr>\n",
              "\t<tr><td>2_Intermediate</td><td> 12</td><td>148</td><td> 7.5</td><td>92.5</td></tr>\n",
              "\t<tr><td>3_Adequate    </td><td> 24</td><td>703</td><td> 3.3</td><td>96.7</td></tr>\n",
              "\t<tr><td>4_AdequatePlus</td><td>119</td><td>732</td><td>14.0</td><td>86.0</td></tr>\n",
              "\t<tr><td>5_NotReported </td><td>  4</td><td> 25</td><td>13.8</td><td>86.2</td></tr>\n",
              "</tbody>\n",
              "</table>\n"
            ]
          },
          "metadata": {}
        }
      ]
    },
    {
      "cell_type": "markdown",
      "metadata": {
        "id": "zf3TBDxOpPXM"
      },
      "source": [
        "***A mutate-group-aggregate-filter (note \"\" != NA):***"
      ]
    },
    {
      "cell_type": "code",
      "metadata": {
        "id": "L0B-CnAqpPXM"
      },
      "source": [
        "surveys <- read.csv('https://github.com/WSU-DataScience/DSCI_210_R_notebooks/raw/main/data/portal_data_joined.csv')\n",
        "head(surveys)"
      ],
      "execution_count": null,
      "outputs": []
    },
    {
      "cell_type": "code",
      "metadata": {
        "id": "O5c9hx2EpPXM",
        "outputId": "fe12a723-8be0-4d7d-e4c2-1b4c8b13a298"
      },
      "source": [
        "surveys %>%\n",
        "  mutate(rodent = ifelse(taxa=='Rodent','yes','no')) %>% \n",
        "  group_by(rodent, sex) %>%\n",
        "  summarize(cnt = n(), avg_wt = mean(weight,na.rm=TRUE)) %>%\n",
        "  filter(sex!=\"\")"
      ],
      "execution_count": null,
      "outputs": [
        {
          "name": "stderr",
          "output_type": "stream",
          "text": [
            "`summarise()` regrouping output by 'rodent' (override with `.groups` argument)\n"
          ]
        },
        {
          "data": {
            "text/html": [
              "<table>\n",
              "<thead><tr><th scope=col>rodent</th><th scope=col>sex</th><th scope=col>cnt</th><th scope=col>avg_wt</th></tr></thead>\n",
              "<tbody>\n",
              "\t<tr><td>yes     </td><td>F       </td><td>15690   </td><td>42.17055</td></tr>\n",
              "\t<tr><td>yes     </td><td>M       </td><td>17348   </td><td>42.99538</td></tr>\n",
              "</tbody>\n",
              "</table>\n"
            ],
            "text/latex": [
              "\\begin{tabular}{r|llll}\n",
              " rodent & sex & cnt & avg\\_wt\\\\\n",
              "\\hline\n",
              "\t yes      & F        & 15690    & 42.17055\\\\\n",
              "\t yes      & M        & 17348    & 42.99538\\\\\n",
              "\\end{tabular}\n"
            ],
            "text/markdown": [
              "\n",
              "rodent | sex | cnt | avg_wt | \n",
              "|---|---|\n",
              "| yes      | F        | 15690    | 42.17055 | \n",
              "| yes      | M        | 17348    | 42.99538 | \n",
              "\n",
              "\n"
            ],
            "text/plain": [
              "  rodent sex cnt   avg_wt  \n",
              "1 yes    F   15690 42.17055\n",
              "2 yes    M   17348 42.99538"
            ]
          },
          "metadata": {},
          "output_type": "display_data"
        }
      ]
    },
    {
      "cell_type": "markdown",
      "metadata": {
        "id": "ZGjQpMBzpPXM"
      },
      "source": [
        "# Translating JMP to `dplyr/tidyr`"
      ]
    },
    {
      "cell_type": "markdown",
      "metadata": {
        "id": "2_m1StVspPXM"
      },
      "source": [
        "### Simple Aggregations"
      ]
    },
    {
      "cell_type": "markdown",
      "metadata": {
        "id": "3LhEtve2pPXM"
      },
      "source": [
        "```{r}\n",
        "surveys %>%\n",
        "  summarize(\n",
        "    avg_wgt = mean(weight, \n",
        "                   na.rm = TRUE))\n",
        "```"
      ]
    },
    {
      "cell_type": "markdown",
      "metadata": {
        "id": "JIc4uDMPpPXN"
      },
      "source": [
        "<img width=\"850\" src=\"https://raw.githubusercontent.com/WSU-DataScience/DSCI_210_R_notebooks/main/img/simple_aggregation_1.png\">"
      ]
    },
    {
      "cell_type": "markdown",
      "metadata": {
        "id": "155HIzsvpPXN"
      },
      "source": [
        "<img width=\"850\" src=\"https://raw.githubusercontent.com/WSU-DataScience/DSCI_210_R_notebooks/main/img/simple_aggregation_2.png\">"
      ]
    },
    {
      "cell_type": "markdown",
      "metadata": {
        "id": "9QrHjSEFpPXN"
      },
      "source": [
        "### Group and Aggregate"
      ]
    },
    {
      "cell_type": "markdown",
      "metadata": {
        "id": "4qjWuSH-pPXN"
      },
      "source": [
        "```{r}\n",
        "grp_agg <- \n",
        "  surveys %>%\n",
        "    group_by(taxa) %>%\n",
        "    summarize(avg = mean(weight, na.rm = TRUE))\n",
        "grp_agg\n",
        "```"
      ]
    },
    {
      "cell_type": "markdown",
      "metadata": {
        "id": "QW9QaQ9fpPXN"
      },
      "source": [
        "<img width=\"850\" src=\"https://raw.githubusercontent.com/WSU-DataScience/DSCI_210_R_notebooks/main/img/group_and_aggregate_0.png\">"
      ]
    },
    {
      "cell_type": "markdown",
      "metadata": {
        "id": "aFR7FYiEpPXN"
      },
      "source": [
        "<img width=\"850\" src=\"https://raw.githubusercontent.com/WSU-DataScience/DSCI_210_R_notebooks/main/img/group_and_aggregate_1.png\">"
      ]
    },
    {
      "cell_type": "markdown",
      "metadata": {
        "id": "eCFBTO_DpPXN"
      },
      "source": [
        "<img width=\"850\" src=\"https://raw.githubusercontent.com/WSU-DataScience/DSCI_210_R_notebooks/main/img/group_and_aggregate_2.png\">"
      ]
    },
    {
      "cell_type": "markdown",
      "metadata": {
        "id": "bxpM3kJ2pPXN"
      },
      "source": [
        "### Multiple Group Variables\n",
        "\n",
        "<img width=\"850\" src=\"https://raw.githubusercontent.com/WSU-DataScience/DSCI_210_R_notebooks/main/img/grp2_agg.PNG\">"
      ]
    }
  ]
}